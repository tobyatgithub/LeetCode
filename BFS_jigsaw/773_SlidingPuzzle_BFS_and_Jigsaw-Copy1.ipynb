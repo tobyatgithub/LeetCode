{
 "cells": [
  {
   "cell_type": "markdown",
   "metadata": {},
   "source": [
    "### 1. We implement 773. Sliding Puzzle as a warmup\n",
    "On a 2x3 board, there are 5 tiles represented by the integers 1 through 5, and an empty square represented by 0.  \n",
    "\n",
    "A move consists of choosing 0 and a 4-directionally adjacent number and swapping it.  \n",
    "\n",
    "The state of the board is solved if and only if the board is [[1,2,3],[4,5,0]].  \n",
    "\n",
    "Given a puzzle board, return the least number of moves required so that the state of the board is solved. If it is   impossible for the state of the board to be solved, return -1."
   ]
  },
  {
   "cell_type": "code",
   "execution_count": 1,
   "metadata": {},
   "outputs": [],
   "source": [
    "import copy\n",
    "import math"
   ]
  },
  {
   "cell_type": "code",
   "execution_count": null,
   "metadata": {},
   "outputs": [],
   "source": [
    "# def slidingPuzzle(board: List[List[int]]) -> int:\n",
    "#     pass\n",
    "len_x = 1\n",
    "len_y = 2\n",
    "def search_board(board, start_pos):\n",
    "    \"\"\"Given a board and starting position and moving direction,\n",
    "       make the move and return a new board.\n",
    "    e.g. [[1,2,3], [4,5,0]], start_pos=1, 2 (which is 0), dir=left,\n",
    "         return [[1,2,3], [4,0,5]]\"\"\"\n",
    "    x, y = start_pos # pack it in a tuple (x,y) fashion.\n",
    "    out_boards = []\n",
    "    if y > 0:\n",
    "        new_board = copy.deepcopy(board)\n",
    "        new_board[x][y], new_board[x][y-1] = new_board[x][y-1], new_board[x][y]\n",
    "        out_boards.append((new_board, x, y-1))\n",
    "    if y <= (len_y-1):\n",
    "        new_board = copy.deepcopy(board)\n",
    "        new_board[x][y], new_board[x][y+1] = new_board[x][y+1], new_board[x][y]\n",
    "        out_boards.append((new_board, x, y+1))\n",
    "    if x >0:\n",
    "        new_board = copy.deepcopy(board)\n",
    "        new_board[x][y], new_board[x-1][y] = new_board[x-1][y], new_board[x][y]\n",
    "        out_boards.append((new_board, x-1, y))\n",
    "    if x <= (len_x-1):\n",
    "        new_board = copy.deepcopy(board)\n",
    "        new_board[x][y], new_board[x+1][y] = new_board[x+1][y], new_board[x][y]\n",
    "        out_boards.append((new_board, x+1, y))\n",
    "    return out_boards\n",
    "\n",
    "def slidingPuzzle(board, x, y):\n",
    "    step = 0\n",
    "    Q = [(board, x, y, step)]\n",
    "    seen = []\n",
    "    while len(Q)>0:\n",
    "#         import pdb; pdb.set_trace()\n",
    "        to_explore, x, y, step = Q.pop(0)\n",
    "        print(to_explore, step)\n",
    "        if to_explore == [[1,2,3], [4,5,0]]:\n",
    "            print(\"Found! at step: \",step)\n",
    "            return step\n",
    "        \n",
    "        if to_explore in seen:\n",
    "            continue\n",
    "        else:\n",
    "            seen.append(to_explore)\n",
    "        if 0 in to_explore[0]:\n",
    "            x = 0\n",
    "        else:\n",
    "            x = 1\n",
    "        y = to_explore[x].index(0)\n",
    "        \n",
    "        new_possibilities = search_board(board=to_explore, start_pos=(x,y))\n",
    "        for index, new in enumerate(new_possibilities):\n",
    "            new_board, new_x, new_y = new\n",
    "            Q.append([new_board, new_x, new_y, step+1])\n",
    "    return -1\n"
   ]
  },
  {
   "cell_type": "code",
   "execution_count": null,
   "metadata": {
    "scrolled": true
   },
   "outputs": [],
   "source": [
    "# tests:\n",
    "# print(slidingPuzzle([[1,2,3], [4,5,0]]))\n",
    "board = [[1,2,3],[4,0,5]]\n",
    "print(slidingPuzzle(board, 1, 1)) # 1\n",
    "board = [[4,1,2],[5,0,3]]\n",
    "print(slidingPuzzle(board, 1, 1)) # 5"
   ]
  },
  {
   "cell_type": "code",
   "execution_count": null,
   "metadata": {},
   "outputs": [],
   "source": [
    "board = [[3,2,4],[1,5,0]]\n",
    "print(slidingPuzzle(board, 1, 2)) # 14"
   ]
  },
  {
   "cell_type": "code",
   "execution_count": null,
   "metadata": {},
   "outputs": [],
   "source": [
    "tmp = [[1,2,3], [4,5,0]]\n",
    "# tmp[1].index(0)\n",
    "# if 0 in tmp[0]: x = 0, \n",
    "# else: x = 1\n",
    "# new_tmp = tmp.copy()\n",
    "import copy\n",
    "new_tmp = copy.deepcopy(tmp)\n",
    "print(tmp, new_tmp)\n",
    "tmp[0][0], tmp[0][1] = tmp[0][1], tmp[0][0]\n",
    "print(tmp, new_tmp)"
   ]
  },
  {
   "cell_type": "code",
   "execution_count": null,
   "metadata": {},
   "outputs": [],
   "source": [
    "tmp = [[[[1,2,3], [4,5,0]], 0, 0, 1]]\n",
    "tmp.append([[[[1,2,6], [4,5,0]], 1, 0, 2]])\n",
    "tmp"
   ]
  },
  {
   "cell_type": "code",
   "execution_count": null,
   "metadata": {},
   "outputs": [],
   "source": []
  },
  {
   "cell_type": "markdown",
   "metadata": {},
   "source": [
    "### 1.1 A tree version\n",
    "Well. We did solve the 773 above. However, we also want a road map to the min solution.  \n",
    "And it seems only possible with a tree structure (that way you get a hold of the last node, find the parent, then the parent's parent, etc.)"
   ]
  },
  {
   "cell_type": "code",
   "execution_count": 2,
   "metadata": {},
   "outputs": [],
   "source": [
    "from anytree import Node, RenderTree"
   ]
  },
  {
   "cell_type": "code",
   "execution_count": null,
   "metadata": {},
   "outputs": [],
   "source": [
    "# def slidingPuzzle(board: List[List[int]]) -> int:\n",
    "#     pass\n",
    "len_x = 1\n",
    "len_y = 2\n",
    "def search_board(board, start_pos):\n",
    "    \"\"\"Given a board and starting position and moving direction,\n",
    "       make the move and return a new board.\n",
    "    e.g. [[1,2,3], [4,5,0]], start_pos=1, 2 (which is 0), dir=left,\n",
    "         return [[1,2,3], [4,0,5]]\"\"\"\n",
    "    x, y = start_pos # pack it in a tuple (x,y) fashion.\n",
    "    out_boards = []\n",
    "    if y > 0:\n",
    "        new_board = copy.deepcopy(board.name)\n",
    "        new_board[x][y], new_board[x][y-1] = new_board[x][y-1], new_board[x][y]\n",
    "        new_node = Node(new_board, parent=board)\n",
    "        out_boards.append((new_node, x, y-1))\n",
    "    if y <= (len_y-1):\n",
    "        new_board = copy.deepcopy(board.name)\n",
    "        new_board[x][y], new_board[x][y+1] = new_board[x][y+1], new_board[x][y]\n",
    "        new_node = Node(new_board, parent=board)\n",
    "        out_boards.append((new_node, x, y+1))\n",
    "    if x >0:\n",
    "        new_board = copy.deepcopy(board.name)\n",
    "        new_board[x][y], new_board[x-1][y] = new_board[x-1][y], new_board[x][y]\n",
    "        new_node = Node(new_board, parent=board)\n",
    "        out_boards.append((new_node, x-1, y))\n",
    "    if x <= (len_x-1):\n",
    "        new_board = copy.deepcopy(board.name)\n",
    "        new_board[x][y], new_board[x+1][y] = new_board[x+1][y], new_board[x][y]\n",
    "        new_node = Node(new_board, parent=board)\n",
    "        out_boards.append((new_node, x+1, y))\n",
    "    return out_boards\n",
    "\n",
    "def slidingPuzzle(board, x, y):\n",
    "    step = 0\n",
    "    Q = [(board, x, y, step)]\n",
    "    seen = []\n",
    "    while len(Q)>0:\n",
    "        to_explore, x, y, step = Q.pop(0)\n",
    "        if to_explore.name == [[1,2,3], [4,5,0]]:\n",
    "            return to_explore.depth\n",
    "        \n",
    "        if to_explore.name in seen:\n",
    "            continue\n",
    "        else:\n",
    "            seen.append(to_explore.name)\n",
    "        if 0 in to_explore.name[0]:\n",
    "            x = 0\n",
    "        else:\n",
    "            x = 1\n",
    "        y = to_explore.name[x].index(0)\n",
    "        \n",
    "        new_possibilities = search_board(board=to_explore, start_pos=(x,y))\n",
    "        for index, new in enumerate(new_possibilities):\n",
    "            new_board, new_x, new_y = new\n",
    "            Q.append([new_board, new_x, new_y, step+1])\n",
    "    return -1\n"
   ]
  },
  {
   "cell_type": "code",
   "execution_count": null,
   "metadata": {},
   "outputs": [],
   "source": [
    "board = Node([[1,2,3],[4,0,5]])\n",
    "print(slidingPuzzle(board, 1, 1))"
   ]
  },
  {
   "cell_type": "code",
   "execution_count": null,
   "metadata": {},
   "outputs": [],
   "source": [
    "board = Node([[4,1,2],[5,0,3]])\n",
    "print(slidingPuzzle(board, 1, 1))\n",
    "for pre, fill, node in RenderTree(board):\n",
    "    print(\"%s%s\" % (pre, node.name))"
   ]
  },
  {
   "cell_type": "code",
   "execution_count": null,
   "metadata": {},
   "outputs": [],
   "source": [
    "board = Node([[3,2,4],[1,5,0]])\n",
    "print(slidingPuzzle(board, 1, 2)) # 14"
   ]
  },
  {
   "cell_type": "code",
   "execution_count": null,
   "metadata": {},
   "outputs": [],
   "source": []
  },
  {
   "cell_type": "code",
   "execution_count": null,
   "metadata": {
    "scrolled": true
   },
   "outputs": [],
   "source": [
    "# dir(board)\n",
    "# ??Node"
   ]
  },
  {
   "cell_type": "code",
   "execution_count": null,
   "metadata": {},
   "outputs": [],
   "source": []
  },
  {
   "cell_type": "code",
   "execution_count": null,
   "metadata": {},
   "outputs": [],
   "source": []
  },
  {
   "cell_type": "code",
   "execution_count": null,
   "metadata": {},
   "outputs": [],
   "source": []
  },
  {
   "cell_type": "markdown",
   "metadata": {},
   "source": [
    "### 2. We use BFS to solve the jigsaw problem.\n",
    "Problem: Given a 3x3 list with non repeating numbers,  \n",
    "(e.g. [[5, 0, 3], [1, 2, 6], [8, 7, 9]])  \n",
    "each time you can swap two adjacent numbers (up, down, left, right.)  \n",
    "search through the possible space to find the minimum steps required to sort it,  \n",
    "and print out the road map.\n"
   ]
  },
  {
   "cell_type": "code",
   "execution_count": null,
   "metadata": {},
   "outputs": [],
   "source": [
    "len_x = 2\n",
    "len_y = 2\n",
    "def search_board(board, start_pos):\n",
    "    \"\"\"Given a board and starting position and moving direction,\n",
    "       make the move and return a new board.\n",
    "    e.g. [[1,2,3], [4,5,0]], start_pos=1, 2 (which is 0), dir=left,\n",
    "         return [[1,2,3], [4,0,5]]\"\"\"\n",
    "    x, y = start_pos # pack it in a tuple (x,y) fashion.\n",
    "    out_boards = []\n",
    "    if y > 0: # left\n",
    "        new_board = copy.deepcopy(board.name)\n",
    "        new_board[x][y], new_board[x][y-1] = new_board[x][y-1], new_board[x][y]\n",
    "        new_node = Node(new_board, parent=board)\n",
    "        out_boards.append((new_node, x, y-1))\n",
    "    if y <= (len_y-1): #right\n",
    "        new_board = copy.deepcopy(board.name)\n",
    "        new_board[x][y], new_board[x][y+1] = new_board[x][y+1], new_board[x][y]\n",
    "        new_node = Node(new_board, parent=board)\n",
    "        out_boards.append((new_node, x, y+1))\n",
    "    if x >0: # up\n",
    "        new_board = copy.deepcopy(board.name)\n",
    "        new_board[x][y], new_board[x-1][y] = new_board[x-1][y], new_board[x][y]\n",
    "        new_node = Node(new_board, parent=board)\n",
    "        out_boards.append((new_node, x-1, y))\n",
    "    if x <= (len_x-1): # down\n",
    "        new_board = copy.deepcopy(board.name)\n",
    "        new_board[x][y], new_board[x+1][y] = new_board[x+1][y], new_board[x][y]\n",
    "        new_node = Node(new_board, parent=board)\n",
    "        out_boards.append((new_node, x+1, y))\n",
    "    return out_boards\n",
    "\n",
    "def slidingPuzzle(board):\n",
    "    Q = []\n",
    "    for x in range(3):\n",
    "        for y in range(3):\n",
    "            Q.append(board)\n",
    "#             Q.append((board, x, y))\n",
    "    seen = []\n",
    "    while len(Q)>0:\n",
    "#         import pdb; pdb.set_trace()\n",
    "#         to_explore, x, y = Q.pop(0)\n",
    "#         print(to_explore.name, to_explore.depth)\n",
    "        to_explore = Q.pop(0)\n",
    "        if len(seen)%100 == 0:\n",
    "            print(len(seen), to_explore.depth)\n",
    "        if to_explore.name == [[1,2,3], [4,5,6], [7,8,9]]:\n",
    "            return to_explore.depth, to_explore\n",
    "        for x in range(3):\n",
    "            for y in range(3):\n",
    "                new_possibilities = search_board(board=to_explore, start_pos=(x,y))\n",
    "                for index, new in enumerate(new_possibilities):\n",
    "                    new_board, _, _ = new\n",
    "                    if new_board.name not in seen:\n",
    "                        seen.append(new_board.name)\n",
    "                        Q.append(new_board)\n",
    "    return -1, None"
   ]
  },
  {
   "cell_type": "code",
   "execution_count": null,
   "metadata": {},
   "outputs": [],
   "source": [
    "# test\n",
    "board = Node([[1,2,3],[4,5,6], [7,8,9]])\n",
    "%time print(slidingPuzzle(board)) # 0"
   ]
  },
  {
   "cell_type": "code",
   "execution_count": null,
   "metadata": {
    "scrolled": true
   },
   "outputs": [],
   "source": [
    "board = Node([[1,2,3],[4,5,6], [7,9,8]])\n",
    "%time print(slidingPuzzle(board)) # 1"
   ]
  },
  {
   "cell_type": "code",
   "execution_count": null,
   "metadata": {
    "scrolled": true
   },
   "outputs": [],
   "source": [
    "board = Node([[1,2,3],[4,6,5], [7,9,8]])\n",
    "%time print(slidingPuzzle(board)) # 2"
   ]
  },
  {
   "cell_type": "code",
   "execution_count": null,
   "metadata": {},
   "outputs": [],
   "source": [
    "board = Node([[1,2,3],[6,4,5], [7,9,8]])\n",
    "%time print(slidingPuzzle(board)) # 3"
   ]
  },
  {
   "cell_type": "code",
   "execution_count": null,
   "metadata": {},
   "outputs": [],
   "source": [
    "board = Node([[1,6,3],[4,2,5], [7,9,8]])\n",
    "%time print(slidingPuzzle(board)) # 3"
   ]
  },
  {
   "cell_type": "code",
   "execution_count": null,
   "metadata": {},
   "outputs": [],
   "source": [
    "board = Node([[4,6,3],[7,2,5], [1,9,8]])\n",
    "%time tmp = slidingPuzzle(board)\n",
    "print(tmp) # 5"
   ]
  },
  {
   "cell_type": "code",
   "execution_count": null,
   "metadata": {},
   "outputs": [],
   "source": [
    "board = Node([[5,4,6],[9,7,2], [8,1,3]])\n",
    "%time tmp = slidingPuzzle(board)\n",
    "print(tmp) # ghost examiner"
   ]
  },
  {
   "cell_type": "code",
   "execution_count": 4,
   "metadata": {},
   "outputs": [
    {
     "name": "stderr",
     "output_type": "stream",
     "text": [
      "ERROR:root:Internal Python error in the inspect module.\n",
      "Below is the traceback from this internal error.\n",
      "\n"
     ]
    },
    {
     "name": "stdout",
     "output_type": "stream",
     "text": [
      "Traceback (most recent call last):\n",
      "  File \"/Users/toby/.local/lib/python3.6/site-packages/IPython/core/magics/execution.py\", line 1310, in time\n",
      "    exec(code, glob, local_ns)\n",
      "  File \"<timed exec>\", line 1, in <module>\n",
      "  File \"<ipython-input-3-174d5c46f43d>\", line 52, in slidingPuzzle\n",
      "    if new_board.name not in seen:\n",
      "KeyboardInterrupt\n",
      "\n",
      "During handling of the above exception, another exception occurred:\n",
      "\n",
      "Traceback (most recent call last):\n",
      "  File \"/Users/toby/.local/lib/python3.6/site-packages/IPython/core/interactiveshell.py\", line 2039, in showtraceback\n",
      "    stb = value._render_traceback_()\n",
      "AttributeError: 'KeyboardInterrupt' object has no attribute '_render_traceback_'\n",
      "\n",
      "During handling of the above exception, another exception occurred:\n",
      "\n",
      "Traceback (most recent call last):\n",
      "  File \"/Users/toby/.local/lib/python3.6/site-packages/IPython/core/ultratb.py\", line 1101, in get_records\n",
      "    return _fixed_getinnerframes(etb, number_of_lines_of_context, tb_offset)\n",
      "  File \"/Users/toby/.local/lib/python3.6/site-packages/IPython/core/ultratb.py\", line 319, in wrapped\n",
      "    return f(*args, **kwargs)\n",
      "  File \"/Users/toby/.local/lib/python3.6/site-packages/IPython/core/ultratb.py\", line 353, in _fixed_getinnerframes\n",
      "    records = fix_frame_records_filenames(inspect.getinnerframes(etb, context))\n",
      "  File \"/Users/toby/anaconda3/envs/py36/lib/python3.6/inspect.py\", line 1490, in getinnerframes\n",
      "    frameinfo = (tb.tb_frame,) + getframeinfo(tb, context)\n",
      "  File \"/Users/toby/anaconda3/envs/py36/lib/python3.6/inspect.py\", line 1452, in getframeinfo\n",
      "    lines, lnum = findsource(frame)\n",
      "  File \"/Users/toby/.local/lib/python3.6/site-packages/IPython/core/ultratb.py\", line 185, in findsource\n",
      "    lines = linecache.getlines(file, globals_dict)\n",
      "  File \"/Users/toby/anaconda3/envs/py36/lib/python3.6/linecache.py\", line 47, in getlines\n",
      "    return updatecache(filename, module_globals)\n",
      "  File \"/Users/toby/anaconda3/envs/py36/lib/python3.6/linecache.py\", line 137, in updatecache\n",
      "    lines = fp.readlines()\n",
      "  File \"/Users/toby/anaconda3/envs/py36/lib/python3.6/codecs.py\", line 318, in decode\n",
      "    def decode(self, input, final=False):\n",
      "KeyboardInterrupt\n"
     ]
    },
    {
     "ename": "KeyboardInterrupt",
     "evalue": "",
     "output_type": "error",
     "traceback": [
      "\u001b[0;31m---------------------------------------------------------------------------\u001b[0m"
     ]
    },
    {
     "name": "stderr",
     "output_type": "stream",
     "text": [
      "\n",
      "KeyboardInterrupt\n",
      "\n"
     ]
    }
   ],
   "source": [
    "board = Node([[6,7,9],[2,3,8], [4,1,5]])\n",
    "%time tmp = slidingPuzzle(board)\n",
    "print(tmp) # human examiner"
   ]
  },
  {
   "cell_type": "code",
   "execution_count": null,
   "metadata": {},
   "outputs": [],
   "source": [
    "board = Node([[7,5,1],[6,2,9], [4,3,8]])\n",
    "%time tmp2 = slidingPuzzle(board)\n",
    "print(tmp2) # fairy examiner"
   ]
  },
  {
   "cell_type": "code",
   "execution_count": null,
   "metadata": {},
   "outputs": [],
   "source": [
    "#     x, y = start_pos # pack it in a tuple (x,y) fashion.\n",
    "#     if direction=='left' and y > 0:\n",
    "#         board[x][y], board[x][y-1] = board[x][y-1], board[x][y]\n",
    "#     if direction=='right' and to_explore.name, x, yy <= (len_y-1):\n",
    "#         board[x][y], board[x][y+1] = board[x][y+1], board[x][y]\n",
    "#     if direction=='up' and x >0:\n",
    "#         board[x][y], board[x-1][y] = board[x-1][y], board[x][y]\n",
    "#     if direction=='down' and x <= (len_x-1):\n",
    "#         board[x][y], board[x+1][y] = board[x+1][y], board[x][y]\n",
    "#     return board\n"
   ]
  },
  {
   "cell_type": "code",
   "execution_count": null,
   "metadata": {},
   "outputs": [],
   "source": [
    "# from anytree import Node, RenderTree\n",
    "\n",
    "# udo = Node(\"Udo\")\n",
    "# marc = Node(\"Marc\", parent=udo)\n",
    "# lian = Node(\"Lian\", parent=marc)\n",
    "# dan = Node(\"Dan\", parent=udo)\n",
    "# jet = Node(\"Jet\", parent=dan)\n",
    "# jan = Node(\"Jan\", parent=dan)\n",
    "# joe = Node(\"Joe\", parent=dan)\n",
    "\n",
    "# print(udo)\n",
    "# Node('/Udo')\n",
    "# print(joe)\n",
    "# Node('/Udo/Dan/Joe')\n",
    "\n",
    "# for pre, fill, node in RenderTree(udo):\n",
    "#     print(\"%s%s\" % (pre, node.name))\n"
   ]
  },
  {
   "cell_type": "code",
   "execution_count": 8,
   "metadata": {},
   "outputs": [
    {
     "name": "stderr",
     "output_type": "stream",
     "text": [
      "Using TensorFlow backend.\n"
     ]
    }
   ],
   "source": [
    "import numpy as np\n",
    "import pandas as pd\n",
    "from keras.preprocessing.text import Tokenizer\n",
    "from keras.preprocessing.sequence import pad_sequences\n",
    "\n",
    "from keras.layers import Input, Embedding, Activation, Flatten, Dense\n",
    "from keras.layers import Conv1D, MaxPooling1D, Dropout\n",
    "from keras.models import Model"
   ]
  },
  {
   "cell_type": "code",
   "execution_count": 13,
   "metadata": {},
   "outputs": [],
   "source": [
    "tk = Tokenizer(num_words=None, char_level=True, oov_token='UNK')\n",
    "alphabet = \"abcdefghijklmnopqrstuvwxyz0123456789,;.!?:'\\\"/\\\\|_@#$%^&*~`+-=<>()[]{}\"\n",
    "char_dict = {}\n",
    "for i, char in enumerate(alphabet):\n",
    "    char_dict[char] = i + 1\n",
    "\n",
    "# # Use char_dict to replace the tk.word_index\n",
    "tk.word_index = char_dict.copy()\n",
    "# # Add 'UNK' to the vocabulary\n",
    "tk.word_index[tk.oov_token] = max(char_dict.values()) + 1"
   ]
  },
  {
   "cell_type": "code",
   "execution_count": 18,
   "metadata": {},
   "outputs": [
    {
     "data": {
      "text/plain": [
       "[[9,\n",
       "  43,\n",
       "  13,\n",
       "  69,\n",
       "  10,\n",
       "  21,\n",
       "  19,\n",
       "  20,\n",
       "  69,\n",
       "  1,\n",
       "  69,\n",
       "  20,\n",
       "  5,\n",
       "  19,\n",
       "  20,\n",
       "  9,\n",
       "  14,\n",
       "  7,\n",
       "  69,\n",
       "  19,\n",
       "  20,\n",
       "  18,\n",
       "  9,\n",
       "  14,\n",
       "  7],\n",
       " [1, 16, 16, 12, 5]]"
      ]
     },
     "execution_count": 18,
     "metadata": {},
     "output_type": "execute_result"
    }
   ],
   "source": [
    "train_texts = [\"i'm just a testing string\", \"apple\"]\n",
    "tk.texts_to_sequences(train_texts)"
   ]
  },
  {
   "cell_type": "code",
   "execution_count": 22,
   "metadata": {
    "scrolled": true
   },
   "outputs": [
    {
     "data": {
      "text/plain": [
       "[258, 115, 101, 101, 109, 115, 259]"
      ]
     },
     "execution_count": 22,
     "metadata": {},
     "output_type": "execute_result"
    }
   ],
   "source": [
    "word = \"seems\"\n",
    "ELMO_PAD_CHAR = 260\n",
    "ELMO_BOW_CHAR = 258\n",
    "ELMO_EOW_CHAR = 259\n",
    "chars = []\n",
    "if len(word) > 0:\n",
    "    chars += [ELMO_BOW_CHAR]\n",
    "    chars += list(word.encode('utf-8', errors='ignore'))\n",
    "    chars += [ELMO_EOW_CHAR]\n",
    "chars"
   ]
  },
  {
   "cell_type": "code",
   "execution_count": null,
   "metadata": {
    "scrolled": true
   },
   "outputs": [],
   "source": []
  },
  {
   "cell_type": "code",
   "execution_count": 25,
   "metadata": {},
   "outputs": [],
   "source": [
    "str.encode??"
   ]
  },
  {
   "cell_type": "code",
   "execution_count": null,
   "metadata": {},
   "outputs": [],
   "source": []
  }
 ],
 "metadata": {
  "kernelspec": {
   "display_name": "Python 3",
   "language": "python",
   "name": "python3"
  },
  "language_info": {
   "codemirror_mode": {
    "name": "ipython",
    "version": 3
   },
   "file_extension": ".py",
   "mimetype": "text/x-python",
   "name": "python",
   "nbconvert_exporter": "python",
   "pygments_lexer": "ipython3",
   "version": "3.6.8"
  }
 },
 "nbformat": 4,
 "nbformat_minor": 2
}
