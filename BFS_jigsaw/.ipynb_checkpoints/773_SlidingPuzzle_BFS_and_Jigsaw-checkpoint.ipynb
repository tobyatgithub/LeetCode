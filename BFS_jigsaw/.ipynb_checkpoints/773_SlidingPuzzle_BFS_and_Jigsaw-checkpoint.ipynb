{
 "cells": [
  {
   "cell_type": "markdown",
   "metadata": {},
   "source": [
    "### 1. We implement 773. Sliding Puzzle as a warmup\n",
    "On a 2x3 board, there are 5 tiles represented by the integers 1 through 5, and an empty square represented by 0.  \n",
    "\n",
    "A move consists of choosing 0 and a 4-directionally adjacent number and swapping it.  \n",
    "\n",
    "The state of the board is solved if and only if the board is [[1,2,3],[4,5,0]].  \n",
    "\n",
    "Given a puzzle board, return the least number of moves required so that the state of the board is solved. If it is   impossible for the state of the board to be solved, return -1."
   ]
  },
  {
   "cell_type": "code",
   "execution_count": null,
   "metadata": {},
   "outputs": [],
   "source": [
    "import copy\n",
    "import math\n",
    "\n",
    "from anytree import Node, RenderTree"
   ]
  },
  {
   "cell_type": "code",
   "execution_count": 83,
   "metadata": {},
   "outputs": [],
   "source": [
    "# def slidingPuzzle(board: List[List[int]]) -> int:\n",
    "#     pass\n",
    "len_x = 1\n",
    "len_y = 2\n",
    "def search_board(board, start_pos):\n",
    "    \"\"\"Given a board and starting position and moving direction,\n",
    "       make the move and return a new board.\n",
    "    e.g. [[1,2,3], [4,5,0]], start_pos=1, 2 (which is 0), dir=left,\n",
    "         return [[1,2,3], [4,0,5]]\"\"\"\n",
    "    x, y = start_pos # pack it in a tuple (x,y) fashion.\n",
    "    out_boards = []\n",
    "    if y > 0:\n",
    "        new_board = copy.deepcopy(board)\n",
    "        new_board[x][y], new_board[x][y-1] = new_board[x][y-1], new_board[x][y]\n",
    "        out_boards.append((new_board, x, y-1))\n",
    "    if y <= (len_y-1):\n",
    "        new_board = copy.deepcopy(board)\n",
    "        new_board[x][y], new_board[x][y+1] = new_board[x][y+1], new_board[x][y]\n",
    "        out_boards.append((new_board, x, y+1))\n",
    "    if x >0:\n",
    "        new_board = copy.deepcopy(board)\n",
    "        new_board[x][y], new_board[x-1][y] = new_board[x-1][y], new_board[x][y]\n",
    "        out_boards.append((new_board, x-1, y))\n",
    "    if x <= (len_x-1):\n",
    "        new_board = copy.deepcopy(board)\n",
    "        new_board[x][y], new_board[x+1][y] = new_board[x+1][y], new_board[x][y]\n",
    "        out_boards.append((new_board, x+1, y))\n",
    "    return out_boards\n",
    "\n",
    "def slidingPuzzle(board, x, y):\n",
    "    step = 0\n",
    "    Q = [(board, x, y, step)]\n",
    "    seen = []\n",
    "    while len(Q)>0:\n",
    "#         import pdb; pdb.set_trace()\n",
    "        to_explore, x, y, step = Q.pop(0)\n",
    "        print(to_explore, step)\n",
    "        if to_explore == [[1,2,3], [4,5,0]]:\n",
    "            print(\"Found! at step: \",step)\n",
    "            return step\n",
    "        \n",
    "        if to_explore in seen:\n",
    "            continue\n",
    "        else:\n",
    "            seen.append(to_explore)\n",
    "        if 0 in to_explore[0]:\n",
    "            x = 0\n",
    "        else:\n",
    "            x = 1\n",
    "        y = to_explore[x].index(0)\n",
    "        \n",
    "        new_possibilities = search_board(board=to_explore, start_pos=(x,y))\n",
    "        for index, new in enumerate(new_possibilities):\n",
    "            new_board, new_x, new_y = new\n",
    "            Q.append([new_board, new_x, new_y, step+1])\n",
    "    return -1\n"
   ]
  },
  {
   "cell_type": "code",
   "execution_count": 84,
   "metadata": {
    "scrolled": true
   },
   "outputs": [
    {
     "name": "stdout",
     "output_type": "stream",
     "text": [
      "[[1, 2, 3], [4, 0, 5]] 0\n",
      "[[1, 2, 3], [0, 4, 5]] 1\n",
      "[[1, 2, 3], [4, 5, 0]] 1\n",
      "Found! at step:  1\n",
      "1\n",
      "[[4, 1, 2], [5, 0, 3]] 0\n",
      "[[4, 1, 2], [0, 5, 3]] 1\n",
      "[[4, 1, 2], [5, 3, 0]] 1\n",
      "[[4, 0, 2], [5, 1, 3]] 1\n",
      "[[4, 1, 2], [5, 0, 3]] 2\n",
      "[[0, 1, 2], [4, 5, 3]] 2\n",
      "[[4, 1, 2], [5, 0, 3]] 2\n",
      "[[4, 1, 0], [5, 3, 2]] 2\n",
      "[[0, 4, 2], [5, 1, 3]] 2\n",
      "[[4, 2, 0], [5, 1, 3]] 2\n",
      "[[4, 1, 2], [5, 0, 3]] 2\n",
      "[[1, 0, 2], [4, 5, 3]] 3\n",
      "[[4, 1, 2], [0, 5, 3]] 3\n",
      "[[4, 0, 1], [5, 3, 2]] 3\n",
      "[[4, 1, 2], [5, 3, 0]] 3\n",
      "[[4, 0, 2], [5, 1, 3]] 3\n",
      "[[5, 4, 2], [0, 1, 3]] 3\n",
      "[[4, 0, 2], [5, 1, 3]] 3\n",
      "[[4, 2, 3], [5, 1, 0]] 3\n",
      "[[0, 1, 2], [4, 5, 3]] 4\n",
      "[[1, 2, 0], [4, 5, 3]] 4\n",
      "[[1, 5, 2], [4, 0, 3]] 4\n",
      "[[0, 4, 1], [5, 3, 2]] 4\n",
      "[[4, 1, 0], [5, 3, 2]] 4\n",
      "[[4, 3, 1], [5, 0, 2]] 4\n",
      "[[5, 4, 2], [1, 0, 3]] 4\n",
      "[[0, 4, 2], [5, 1, 3]] 4\n",
      "[[4, 2, 3], [5, 0, 1]] 4\n",
      "[[4, 2, 0], [5, 1, 3]] 4\n",
      "[[1, 0, 2], [4, 5, 3]] 5\n",
      "[[1, 2, 3], [4, 5, 0]] 5\n",
      "Found! at step:  5\n",
      "5\n"
     ]
    }
   ],
   "source": [
    "# tests:\n",
    "# print(slidingPuzzle([[1,2,3], [4,5,0]]))\n",
    "board = [[1,2,3],[4,0,5]]\n",
    "print(slidingPuzzle(board, 1, 1)) # 1\n",
    "board = [[4,1,2],[5,0,3]]\n",
    "print(slidingPuzzle(board, 1, 1)) # 5"
   ]
  },
  {
   "cell_type": "code",
   "execution_count": 85,
   "metadata": {},
   "outputs": [
    {
     "name": "stdout",
     "output_type": "stream",
     "text": [
      "[[3, 2, 4], [1, 5, 0]] 0\n",
      "[[3, 2, 4], [1, 0, 5]] 1\n",
      "[[3, 2, 0], [1, 5, 4]] 1\n",
      "[[3, 2, 4], [0, 1, 5]] 2\n",
      "[[3, 2, 4], [1, 5, 0]] 2\n",
      "[[3, 0, 4], [1, 2, 5]] 2\n",
      "[[3, 0, 2], [1, 5, 4]] 2\n",
      "[[3, 2, 4], [1, 5, 0]] 2\n",
      "[[3, 2, 4], [1, 0, 5]] 3\n",
      "[[0, 2, 4], [3, 1, 5]] 3\n",
      "[[0, 3, 4], [1, 2, 5]] 3\n",
      "[[3, 4, 0], [1, 2, 5]] 3\n",
      "[[3, 2, 4], [1, 0, 5]] 3\n",
      "[[0, 3, 2], [1, 5, 4]] 3\n",
      "[[3, 2, 0], [1, 5, 4]] 3\n",
      "[[3, 5, 2], [1, 0, 4]] 3\n",
      "[[2, 0, 4], [3, 1, 5]] 4\n",
      "[[3, 2, 4], [0, 1, 5]] 4\n",
      "[[3, 0, 4], [1, 2, 5]] 4\n",
      "[[1, 3, 4], [0, 2, 5]] 4\n",
      "[[3, 0, 4], [1, 2, 5]] 4\n",
      "[[3, 4, 5], [1, 2, 0]] 4\n",
      "[[3, 0, 2], [1, 5, 4]] 4\n",
      "[[1, 3, 2], [0, 5, 4]] 4\n",
      "[[3, 5, 2], [0, 1, 4]] 4\n",
      "[[3, 5, 2], [1, 4, 0]] 4\n",
      "[[3, 0, 2], [1, 5, 4]] 4\n",
      "[[0, 2, 4], [3, 1, 5]] 5\n",
      "[[2, 4, 0], [3, 1, 5]] 5\n",
      "[[2, 1, 4], [3, 0, 5]] 5\n",
      "[[1, 3, 4], [2, 0, 5]] 5\n",
      "[[0, 3, 4], [1, 2, 5]] 5\n",
      "[[3, 4, 5], [1, 0, 2]] 5\n",
      "[[3, 4, 0], [1, 2, 5]] 5\n",
      "[[1, 3, 2], [5, 0, 4]] 5\n",
      "[[0, 3, 2], [1, 5, 4]] 5\n",
      "[[3, 5, 2], [1, 0, 4]] 5\n",
      "[[0, 5, 2], [3, 1, 4]] 5\n",
      "[[3, 5, 2], [1, 0, 4]] 5\n",
      "[[3, 5, 0], [1, 4, 2]] 5\n",
      "[[2, 0, 4], [3, 1, 5]] 6\n",
      "[[2, 4, 5], [3, 1, 0]] 6\n",
      "[[2, 1, 4], [0, 3, 5]] 6\n",
      "[[2, 1, 4], [3, 5, 0]] 6\n",
      "[[2, 0, 4], [3, 1, 5]] 6\n",
      "[[1, 3, 4], [0, 2, 5]] 6\n",
      "[[1, 3, 4], [2, 5, 0]] 6\n",
      "[[1, 0, 4], [2, 3, 5]] 6\n",
      "[[3, 4, 5], [0, 1, 2]] 6\n",
      "[[3, 4, 5], [1, 2, 0]] 6\n",
      "[[3, 0, 5], [1, 4, 2]] 6\n",
      "[[1, 3, 2], [0, 5, 4]] 6\n",
      "[[1, 3, 2], [5, 4, 0]] 6\n",
      "[[1, 0, 2], [5, 3, 4]] 6\n",
      "[[5, 0, 2], [3, 1, 4]] 6\n",
      "[[3, 5, 2], [0, 1, 4]] 6\n",
      "[[3, 0, 5], [1, 4, 2]] 6\n",
      "[[3, 5, 2], [1, 4, 0]] 6\n",
      "[[2, 4, 5], [3, 0, 1]] 7\n",
      "[[2, 4, 0], [3, 1, 5]] 7\n",
      "[[2, 1, 4], [3, 0, 5]] 7\n",
      "[[0, 1, 4], [2, 3, 5]] 7\n",
      "[[2, 1, 4], [3, 0, 5]] 7\n",
      "[[2, 1, 0], [3, 5, 4]] 7\n",
      "[[1, 3, 4], [2, 0, 5]] 7\n",
      "[[1, 3, 0], [2, 5, 4]] 7\n",
      "[[0, 1, 4], [2, 3, 5]] 7\n",
      "[[1, 4, 0], [2, 3, 5]] 7\n",
      "[[1, 3, 4], [2, 0, 5]] 7\n",
      "[[3, 4, 5], [1, 0, 2]] 7\n",
      "[[0, 4, 5], [3, 1, 2]] 7\n",
      "[[0, 3, 5], [1, 4, 2]] 7\n",
      "[[3, 5, 0], [1, 4, 2]] 7\n",
      "[[3, 4, 5], [1, 0, 2]] 7\n",
      "[[1, 3, 2], [5, 0, 4]] 7\n",
      "[[1, 3, 0], [5, 4, 2]] 7\n",
      "[[0, 1, 2], [5, 3, 4]] 7\n",
      "[[1, 2, 0], [5, 3, 4]] 7\n",
      "[[1, 3, 2], [5, 0, 4]] 7\n",
      "[[0, 5, 2], [3, 1, 4]] 7\n",
      "[[5, 2, 0], [3, 1, 4]] 7\n",
      "[[5, 1, 2], [3, 0, 4]] 7\n",
      "[[2, 4, 5], [0, 3, 1]] 8\n",
      "[[2, 4, 5], [3, 1, 0]] 8\n",
      "[[2, 0, 5], [3, 4, 1]] 8\n",
      "[[1, 0, 4], [2, 3, 5]] 8\n",
      "[[2, 1, 4], [0, 3, 5]] 8\n",
      "[[2, 0, 1], [3, 5, 4]] 8\n",
      "[[2, 1, 4], [3, 5, 0]] 8\n",
      "[[1, 0, 3], [2, 5, 4]] 8\n",
      "[[1, 3, 4], [2, 5, 0]] 8\n",
      "[[1, 0, 4], [2, 3, 5]] 8\n",
      "[[1, 4, 5], [2, 3, 0]] 8\n",
      "[[4, 0, 5], [3, 1, 2]] 8\n",
      "[[3, 4, 5], [0, 1, 2]] 8\n",
      "[[3, 0, 5], [1, 4, 2]] 8\n",
      "[[1, 3, 5], [0, 4, 2]] 8\n",
      "[[1, 0, 3], [5, 4, 2]] 8\n",
      "[[1, 3, 2], [5, 4, 0]] 8\n",
      "[[1, 0, 2], [5, 3, 4]] 8\n",
      "[[5, 1, 2], [0, 3, 4]] 8\n",
      "[[1, 0, 2], [5, 3, 4]] 8\n",
      "[[1, 2, 4], [5, 3, 0]] 8\n",
      "[[5, 0, 2], [3, 1, 4]] 8\n",
      "[[5, 2, 4], [3, 1, 0]] 8\n",
      "[[5, 1, 2], [0, 3, 4]] 8\n",
      "[[5, 1, 2], [3, 4, 0]] 8\n",
      "[[5, 0, 2], [3, 1, 4]] 8\n",
      "[[2, 4, 5], [3, 0, 1]] 9\n",
      "[[0, 4, 5], [2, 3, 1]] 9\n",
      "[[0, 2, 5], [3, 4, 1]] 9\n",
      "[[2, 5, 0], [3, 4, 1]] 9\n",
      "[[2, 4, 5], [3, 0, 1]] 9\n",
      "[[0, 2, 1], [3, 5, 4]] 9\n",
      "[[2, 1, 0], [3, 5, 4]] 9\n",
      "[[2, 5, 1], [3, 0, 4]] 9\n",
      "[[0, 1, 3], [2, 5, 4]] 9\n",
      "[[1, 3, 0], [2, 5, 4]] 9\n",
      "[[1, 5, 3], [2, 0, 4]] 9\n",
      "[[1, 4, 5], [2, 0, 3]] 9\n",
      "[[1, 4, 0], [2, 3, 5]] 9\n",
      "[[0, 4, 5], [3, 1, 2]] 9\n",
      "[[4, 5, 0], [3, 1, 2]] 9\n",
      "[[4, 1, 5], [3, 0, 2]] 9\n",
      "[[1, 3, 5], [4, 0, 2]] 9\n",
      "[[0, 3, 5], [1, 4, 2]] 9\n",
      "[[0, 1, 3], [5, 4, 2]] 9\n",
      "[[1, 3, 0], [5, 4, 2]] 9\n",
      "[[1, 4, 3], [5, 0, 2]] 9\n",
      "[[5, 1, 2], [3, 0, 4]] 9\n",
      "[[0, 1, 2], [5, 3, 4]] 9\n",
      "[[1, 2, 4], [5, 0, 3]] 9\n",
      "[[1, 2, 0], [5, 3, 4]] 9\n",
      "[[5, 2, 4], [3, 0, 1]] 9\n",
      "[[5, 2, 0], [3, 1, 4]] 9\n",
      "[[5, 1, 2], [3, 0, 4]] 9\n",
      "[[5, 1, 0], [3, 4, 2]] 9\n",
      "[[4, 0, 5], [2, 3, 1]] 10\n",
      "[[2, 4, 5], [0, 3, 1]] 10\n",
      "[[2, 0, 5], [3, 4, 1]] 10\n",
      "[[3, 2, 5], [0, 4, 1]] 10\n",
      "[[2, 0, 5], [3, 4, 1]] 10\n",
      "[[2, 5, 1], [3, 4, 0]] 10\n",
      "[[2, 0, 1], [3, 5, 4]] 10\n",
      "[[3, 2, 1], [0, 5, 4]] 10\n",
      "[[2, 5, 1], [0, 3, 4]] 10\n",
      "[[2, 5, 1], [3, 4, 0]] 10\n",
      "[[2, 0, 1], [3, 5, 4]] 10\n",
      "[[1, 0, 3], [2, 5, 4]] 10\n",
      "[[2, 1, 3], [0, 5, 4]] 10\n",
      "[[1, 5, 3], [0, 2, 4]] 10\n",
      "[[1, 5, 3], [2, 4, 0]] 10\n",
      "[[1, 0, 3], [2, 5, 4]] 10\n",
      "[[1, 4, 5], [0, 2, 3]] 10\n",
      "[[1, 4, 5], [2, 3, 0]] 10\n",
      "[[1, 0, 5], [2, 4, 3]] 10\n",
      "[[4, 0, 5], [3, 1, 2]] 10\n",
      "[[4, 5, 2], [3, 1, 0]] 10\n",
      "[[4, 1, 5], [0, 3, 2]] 10\n",
      "[[4, 1, 5], [3, 2, 0]] 10\n",
      "[[4, 0, 5], [3, 1, 2]] 10\n",
      "[[1, 3, 5], [0, 4, 2]] 10\n",
      "[[1, 3, 5], [4, 2, 0]] 10\n",
      "[[1, 0, 5], [4, 3, 2]] 10\n",
      "[[1, 0, 3], [5, 4, 2]] 10\n",
      "[[5, 1, 3], [0, 4, 2]] 10\n",
      "[[1, 4, 3], [0, 5, 2]] 10\n",
      "[[1, 4, 3], [5, 2, 0]] 10\n",
      "[[1, 0, 3], [5, 4, 2]] 10\n",
      "[[1, 2, 4], [0, 5, 3]] 10\n",
      "[[1, 2, 4], [5, 3, 0]] 10\n",
      "[[1, 0, 4], [5, 2, 3]] 10\n",
      "[[5, 2, 4], [0, 3, 1]] 10\n",
      "[[5, 2, 4], [3, 1, 0]] 10\n",
      "[[5, 0, 4], [3, 2, 1]] 10\n",
      "[[5, 0, 1], [3, 4, 2]] 10\n",
      "[[5, 1, 2], [3, 4, 0]] 10\n",
      "[[0, 4, 5], [2, 3, 1]] 11\n",
      "[[4, 5, 0], [2, 3, 1]] 11\n",
      "[[4, 3, 5], [2, 0, 1]] 11\n",
      "[[3, 2, 5], [4, 0, 1]] 11\n",
      "[[0, 2, 5], [3, 4, 1]] 11\n",
      "[[2, 5, 1], [3, 0, 4]] 11\n",
      "[[2, 5, 0], [3, 4, 1]] 11\n",
      "[[3, 2, 1], [5, 0, 4]] 11\n",
      "[[0, 2, 1], [3, 5, 4]] 11\n",
      "[[2, 5, 1], [3, 0, 4]] 11\n",
      "[[0, 5, 1], [2, 3, 4]] 11\n",
      "[[2, 1, 3], [5, 0, 4]] 11\n",
      "[[0, 1, 3], [2, 5, 4]] 11\n",
      "[[1, 5, 3], [2, 0, 4]] 11\n",
      "[[0, 5, 3], [1, 2, 4]] 11\n",
      "[[1, 5, 3], [2, 0, 4]] 11\n",
      "[[1, 5, 0], [2, 4, 3]] 11\n",
      "[[1, 4, 5], [2, 0, 3]] 11\n",
      "[[0, 4, 5], [1, 2, 3]] 11\n",
      "[[0, 1, 5], [2, 4, 3]] 11\n",
      "[[1, 5, 0], [2, 4, 3]] 11\n",
      "[[1, 4, 5], [2, 0, 3]] 11\n",
      "[[4, 5, 2], [3, 0, 1]] 11\n",
      "[[4, 5, 0], [3, 1, 2]] 11\n",
      "[[4, 1, 5], [3, 0, 2]] 11\n",
      "[[0, 1, 5], [4, 3, 2]] 11\n",
      "[[4, 1, 5], [3, 0, 2]] 11\n",
      "[[4, 1, 0], [3, 2, 5]] 11\n",
      "[[1, 3, 5], [4, 0, 2]] 11\n",
      "[[1, 3, 0], [4, 2, 5]] 11\n",
      "[[0, 1, 5], [4, 3, 2]] 11\n",
      "[[1, 5, 0], [4, 3, 2]] 11\n",
      "[[1, 3, 5], [4, 0, 2]] 11\n",
      "[[5, 1, 3], [4, 0, 2]] 11\n",
      "[[0, 1, 3], [5, 4, 2]] 11\n",
      "[[1, 4, 3], [5, 0, 2]] 11\n",
      "[[0, 4, 3], [1, 5, 2]] 11\n",
      "[[1, 4, 3], [5, 0, 2]] 11\n",
      "[[1, 4, 0], [5, 2, 3]] 11\n",
      "[[1, 2, 4], [5, 0, 3]] 11\n",
      "[[0, 2, 4], [1, 5, 3]] 11\n",
      "[[0, 1, 4], [5, 2, 3]] 11\n",
      "[[1, 4, 0], [5, 2, 3]] 11\n",
      "[[1, 2, 4], [5, 0, 3]] 11\n",
      "[[5, 2, 4], [3, 0, 1]] 11\n",
      "[[0, 2, 4], [5, 3, 1]] 11\n",
      "[[0, 5, 4], [3, 2, 1]] 11\n",
      "[[5, 4, 0], [3, 2, 1]] 11\n",
      "[[5, 2, 4], [3, 0, 1]] 11\n",
      "[[0, 5, 1], [3, 4, 2]] 11\n",
      "[[5, 1, 0], [3, 4, 2]] 11\n",
      "[[5, 4, 1], [3, 0, 2]] 11\n",
      "[[4, 0, 5], [2, 3, 1]] 12\n",
      "[[4, 5, 1], [2, 3, 0]] 12\n",
      "[[4, 3, 5], [0, 2, 1]] 12\n",
      "[[4, 3, 5], [2, 1, 0]] 12\n",
      "[[4, 0, 5], [2, 3, 1]] 12\n",
      "[[3, 2, 5], [0, 4, 1]] 12\n",
      "[[3, 2, 5], [4, 1, 0]] 12\n",
      "[[3, 0, 5], [4, 2, 1]] 12\n",
      "[[3, 2, 1], [0, 5, 4]] 12\n",
      "[[3, 2, 1], [5, 4, 0]] 12\n",
      "[[3, 0, 1], [5, 2, 4]] 12\n",
      "[[5, 0, 1], [2, 3, 4]] 12\n",
      "[[2, 5, 1], [0, 3, 4]] 12\n",
      "[[2, 1, 3], [0, 5, 4]] 12\n",
      "[[2, 1, 3], [5, 4, 0]] 12\n",
      "[[2, 0, 3], [5, 1, 4]] 12\n",
      "[[5, 0, 3], [1, 2, 4]] 12\n",
      "[[1, 5, 3], [0, 2, 4]] 12\n",
      "[[1, 0, 5], [2, 4, 3]] 12\n",
      "[[1, 5, 3], [2, 4, 0]] 12\n",
      "[[4, 0, 5], [1, 2, 3]] 12\n",
      "[[1, 4, 5], [0, 2, 3]] 12\n",
      "[[1, 0, 5], [2, 4, 3]] 12\n",
      "[[2, 1, 5], [0, 4, 3]] 12\n",
      "[[4, 5, 2], [0, 3, 1]] 12\n",
      "[[4, 5, 2], [3, 1, 0]] 12\n",
      "[[4, 0, 2], [3, 5, 1]] 12\n",
      "[[1, 0, 5], [4, 3, 2]] 12\n",
      "[[4, 1, 5], [0, 3, 2]] 12\n",
      "[[4, 0, 1], [3, 2, 5]] 12\n",
      "[[4, 1, 5], [3, 2, 0]] 12\n",
      "[[1, 0, 3], [4, 2, 5]] 12\n",
      "[[1, 3, 5], [4, 2, 0]] 12\n",
      "[[1, 0, 5], [4, 3, 2]] 12\n",
      "[[1, 5, 2], [4, 3, 0]] 12\n",
      "[[5, 1, 3], [0, 4, 2]] 12\n",
      "[[5, 1, 3], [4, 2, 0]] 12\n",
      "[[5, 0, 3], [4, 1, 2]] 12\n",
      "[[4, 0, 3], [1, 5, 2]] 12\n",
      "[[1, 4, 3], [0, 5, 2]] 12\n",
      "[[1, 0, 4], [5, 2, 3]] 12\n",
      "[[1, 4, 3], [5, 2, 0]] 12\n",
      "[[2, 0, 4], [1, 5, 3]] 12\n",
      "[[1, 2, 4], [0, 5, 3]] 12\n",
      "[[1, 0, 4], [5, 2, 3]] 12\n",
      "[[5, 1, 4], [0, 2, 3]] 12\n",
      "[[2, 0, 4], [5, 3, 1]] 12\n",
      "[[5, 2, 4], [0, 3, 1]] 12\n",
      "[[5, 0, 4], [3, 2, 1]] 12\n",
      "[[3, 5, 4], [0, 2, 1]] 12\n",
      "[[5, 0, 4], [3, 2, 1]] 12\n",
      "[[5, 4, 1], [3, 2, 0]] 12\n",
      "[[5, 0, 1], [3, 4, 2]] 12\n",
      "[[3, 5, 1], [0, 4, 2]] 12\n",
      "[[5, 4, 1], [0, 3, 2]] 12\n",
      "[[5, 4, 1], [3, 2, 0]] 12\n",
      "[[5, 0, 1], [3, 4, 2]] 12\n",
      "[[4, 5, 1], [2, 0, 3]] 13\n",
      "[[4, 5, 0], [2, 3, 1]] 13\n",
      "[[4, 3, 5], [2, 0, 1]] 13\n",
      "[[0, 3, 5], [4, 2, 1]] 13\n",
      "[[4, 3, 5], [2, 0, 1]] 13\n",
      "[[4, 3, 0], [2, 1, 5]] 13\n",
      "[[3, 2, 5], [4, 0, 1]] 13\n",
      "[[3, 2, 0], [4, 1, 5]] 13\n",
      "[[0, 3, 5], [4, 2, 1]] 13\n",
      "[[3, 5, 0], [4, 2, 1]] 13\n",
      "[[3, 2, 5], [4, 0, 1]] 13\n",
      "[[3, 2, 1], [5, 0, 4]] 13\n",
      "[[3, 2, 0], [5, 4, 1]] 13\n",
      "[[0, 3, 1], [5, 2, 4]] 13\n",
      "[[3, 1, 0], [5, 2, 4]] 13\n",
      "[[3, 2, 1], [5, 0, 4]] 13\n",
      "[[0, 5, 1], [2, 3, 4]] 13\n",
      "[[5, 1, 0], [2, 3, 4]] 13\n",
      "[[5, 3, 1], [2, 0, 4]] 13\n",
      "[[2, 1, 3], [5, 0, 4]] 13\n",
      "[[2, 1, 0], [5, 4, 3]] 13\n",
      "[[0, 2, 3], [5, 1, 4]] 13\n",
      "[[2, 3, 0], [5, 1, 4]] 13\n",
      "[[2, 1, 3], [5, 0, 4]] 13\n",
      "[[0, 5, 3], [1, 2, 4]] 13\n",
      "[[5, 3, 0], [1, 2, 4]] 13\n",
      "[[5, 2, 3], [1, 0, 4]] 13\n",
      "[[0, 4, 5], [1, 2, 3]] 13\n",
      "[[4, 5, 0], [1, 2, 3]] 13\n",
      "[[4, 2, 5], [1, 0, 3]] 13\n",
      "[[2, 1, 5], [4, 0, 3]] 13\n",
      "[[0, 1, 5], [2, 4, 3]] 13\n",
      "[[4, 5, 2], [3, 0, 1]] 13\n",
      "[[0, 5, 2], [4, 3, 1]] 13\n",
      "[[0, 4, 2], [3, 5, 1]] 13\n",
      "[[4, 2, 0], [3, 5, 1]] 13\n",
      "[[4, 5, 2], [3, 0, 1]] 13\n",
      "[[0, 4, 1], [3, 2, 5]] 13\n",
      "[[4, 1, 0], [3, 2, 5]] 13\n",
      "[[4, 2, 1], [3, 0, 5]] 13\n",
      "[[0, 1, 3], [4, 2, 5]] 13\n",
      "[[1, 3, 0], [4, 2, 5]] 13\n",
      "[[1, 2, 3], [4, 0, 5]] 13\n",
      "[[1, 5, 2], [4, 0, 3]] 13\n",
      "[[1, 5, 0], [4, 3, 2]] 13\n",
      "[[5, 1, 3], [4, 0, 2]] 13\n",
      "[[5, 1, 0], [4, 2, 3]] 13\n",
      "[[0, 5, 3], [4, 1, 2]] 13\n",
      "[[5, 3, 0], [4, 1, 2]] 13\n",
      "[[5, 1, 3], [4, 0, 2]] 13\n",
      "[[0, 4, 3], [1, 5, 2]] 13\n",
      "[[4, 3, 0], [1, 5, 2]] 13\n",
      "[[4, 5, 3], [1, 0, 2]] 13\n",
      "[[0, 2, 4], [1, 5, 3]] 13\n",
      "[[2, 4, 0], [1, 5, 3]] 13\n",
      "[[2, 5, 4], [1, 0, 3]] 13\n",
      "[[5, 1, 4], [2, 0, 3]] 13\n",
      "[[0, 1, 4], [5, 2, 3]] 13\n",
      "[[0, 2, 4], [5, 3, 1]] 13\n",
      "[[2, 4, 0], [5, 3, 1]] 13\n",
      "[[2, 3, 4], [5, 0, 1]] 13\n",
      "[[3, 5, 4], [2, 0, 1]] 13\n",
      "[[0, 5, 4], [3, 2, 1]] 13\n",
      "[[5, 4, 1], [3, 0, 2]] 13\n",
      "[[5, 4, 0], [3, 2, 1]] 13\n",
      "[[3, 5, 1], [4, 0, 2]] 13\n",
      "[[0, 5, 1], [3, 4, 2]] 13\n",
      "[[5, 4, 1], [3, 0, 2]] 13\n",
      "[[0, 4, 1], [5, 3, 2]] 13\n",
      "[[4, 5, 1], [0, 2, 3]] 14\n",
      "[[4, 5, 1], [2, 3, 0]] 14\n",
      "[[4, 0, 1], [2, 5, 3]] 14\n",
      "[[3, 0, 5], [4, 2, 1]] 14\n",
      "[[4, 3, 5], [0, 2, 1]] 14\n",
      "[[4, 0, 3], [2, 1, 5]] 14\n",
      "[[4, 3, 5], [2, 1, 0]] 14\n",
      "[[3, 0, 2], [4, 1, 5]] 14\n",
      "[[3, 2, 5], [4, 1, 0]] 14\n",
      "[[3, 0, 5], [4, 2, 1]] 14\n",
      "[[3, 5, 1], [4, 2, 0]] 14\n",
      "[[3, 0, 2], [5, 4, 1]] 14\n",
      "[[3, 2, 1], [5, 4, 0]] 14\n",
      "[[3, 0, 1], [5, 2, 4]] 14\n",
      "[[5, 3, 1], [0, 2, 4]] 14\n",
      "[[3, 0, 1], [5, 2, 4]] 14\n",
      "[[3, 1, 4], [5, 2, 0]] 14\n",
      "[[5, 0, 1], [2, 3, 4]] 14\n",
      "[[5, 1, 4], [2, 3, 0]] 14\n",
      "[[5, 3, 1], [0, 2, 4]] 14\n",
      "[[5, 3, 1], [2, 4, 0]] 14\n",
      "[[5, 0, 1], [2, 3, 4]] 14\n",
      "[[2, 0, 1], [5, 4, 3]] 14\n",
      "[[2, 1, 3], [5, 4, 0]] 14\n",
      "[[2, 0, 3], [5, 1, 4]] 14\n",
      "[[5, 2, 3], [0, 1, 4]] 14\n",
      "[[2, 0, 3], [5, 1, 4]] 14\n",
      "[[2, 3, 4], [5, 1, 0]] 14\n",
      "[[5, 0, 3], [1, 2, 4]] 14\n",
      "[[5, 3, 4], [1, 2, 0]] 14\n",
      "[[5, 2, 3], [0, 1, 4]] 14\n",
      "[[5, 2, 3], [1, 4, 0]] 14\n",
      "[[5, 0, 3], [1, 2, 4]] 14\n",
      "[[4, 0, 5], [1, 2, 3]] 14\n",
      "[[4, 5, 3], [1, 2, 0]] 14\n",
      "[[4, 2, 5], [0, 1, 3]] 14\n",
      "[[4, 2, 5], [1, 3, 0]] 14\n",
      "[[4, 0, 5], [1, 2, 3]] 14\n",
      "[[2, 1, 5], [0, 4, 3]] 14\n",
      "[[2, 1, 5], [4, 3, 0]] 14\n",
      "[[2, 0, 5], [4, 1, 3]] 14\n",
      "[[5, 0, 2], [4, 3, 1]] 14\n",
      "[[4, 5, 2], [0, 3, 1]] 14\n",
      "[[4, 0, 2], [3, 5, 1]] 14\n",
      "[[3, 4, 2], [0, 5, 1]] 14\n",
      "[[4, 0, 2], [3, 5, 1]] 14\n",
      "[[4, 2, 1], [3, 5, 0]] 14\n",
      "[[4, 0, 1], [3, 2, 5]] 14\n",
      "[[3, 4, 1], [0, 2, 5]] 14\n",
      "[[4, 2, 1], [0, 3, 5]] 14\n",
      "[[4, 2, 1], [3, 5, 0]] 14\n",
      "[[4, 0, 1], [3, 2, 5]] 14\n",
      "[[1, 0, 3], [4, 2, 5]] 14\n",
      "[[4, 1, 3], [0, 2, 5]] 14\n",
      "[[1, 2, 3], [0, 4, 5]] 14\n",
      "[[1, 2, 3], [4, 5, 0]] 14\n",
      "Found! at step:  14\n",
      "14\n"
     ]
    }
   ],
   "source": [
    "board = [[3,2,4],[1,5,0]]\n",
    "print(slidingPuzzle(board, 1, 2)) # 14"
   ]
  },
  {
   "cell_type": "code",
   "execution_count": 24,
   "metadata": {},
   "outputs": [
    {
     "name": "stdout",
     "output_type": "stream",
     "text": [
      "[[1, 2, 3], [4, 5, 0]] [[1, 2, 3], [4, 5, 0]]\n",
      "[[2, 1, 3], [4, 5, 0]] [[1, 2, 3], [4, 5, 0]]\n"
     ]
    }
   ],
   "source": [
    "tmp = [[1,2,3], [4,5,0]]\n",
    "# tmp[1].index(0)\n",
    "# if 0 in tmp[0]: x = 0, \n",
    "# else: x = 1\n",
    "# new_tmp = tmp.copy()\n",
    "import copy\n",
    "new_tmp = copy.deepcopy(tmp)\n",
    "print(tmp, new_tmp)\n",
    "tmp[0][0], tmp[0][1] = tmp[0][1], tmp[0][0]\n",
    "print(tmp, new_tmp)"
   ]
  },
  {
   "cell_type": "code",
   "execution_count": 78,
   "metadata": {},
   "outputs": [
    {
     "data": {
      "text/plain": [
       "[[[[1, 2, 3], [4, 5, 0]], 0, 0, 1], [[[[1, 2, 6], [4, 5, 0]], 1, 0, 2]]]"
      ]
     },
     "execution_count": 78,
     "metadata": {},
     "output_type": "execute_result"
    }
   ],
   "source": [
    "tmp = [[[[1,2,3], [4,5,0]], 0, 0, 1]]\n",
    "tmp.append([[[[1,2,6], [4,5,0]], 1, 0, 2]])\n",
    "tmp"
   ]
  },
  {
   "cell_type": "code",
   "execution_count": null,
   "metadata": {},
   "outputs": [],
   "source": []
  },
  {
   "cell_type": "markdown",
   "metadata": {},
   "source": [
    "### 1.1 A tree version\n",
    "Well. We did solve the 773 above. However, we also want a road map to the min solution.  \n",
    "And it seems only possible with a tree structure (that way you get a hold of the last node, find the parent, then the parent's parent, etc.)"
   ]
  },
  {
   "cell_type": "code",
   "execution_count": 91,
   "metadata": {},
   "outputs": [],
   "source": []
  },
  {
   "cell_type": "code",
   "execution_count": 112,
   "metadata": {},
   "outputs": [],
   "source": [
    "# def slidingPuzzle(board: List[List[int]]) -> int:\n",
    "#     pass\n",
    "len_x = 1\n",
    "len_y = 2\n",
    "def search_board(board, start_pos):\n",
    "    \"\"\"Given a board and starting position and moving direction,\n",
    "       make the move and return a new board.\n",
    "    e.g. [[1,2,3], [4,5,0]], start_pos=1, 2 (which is 0), dir=left,\n",
    "         return [[1,2,3], [4,0,5]]\"\"\"\n",
    "    x, y = start_pos # pack it in a tuple (x,y) fashion.\n",
    "    out_boards = []\n",
    "    if y > 0:\n",
    "        new_board = copy.deepcopy(board.name)\n",
    "        new_board[x][y], new_board[x][y-1] = new_board[x][y-1], new_board[x][y]\n",
    "        new_node = Node(new_board, parent=board)\n",
    "        out_boards.append((new_node, x, y-1))\n",
    "    if y <= (len_y-1):\n",
    "        new_board = copy.deepcopy(board.name)\n",
    "        new_board[x][y], new_board[x][y+1] = new_board[x][y+1], new_board[x][y]\n",
    "        new_node = Node(new_board, parent=board)\n",
    "        out_boards.append((new_node, x, y+1))\n",
    "    if x >0:\n",
    "        new_board = copy.deepcopy(board.name)\n",
    "        new_board[x][y], new_board[x-1][y] = new_board[x-1][y], new_board[x][y]\n",
    "        new_node = Node(new_board, parent=board)\n",
    "        out_boards.append((new_node, x-1, y))\n",
    "    if x <= (len_x-1):\n",
    "        new_board = copy.deepcopy(board.name)\n",
    "        new_board[x][y], new_board[x+1][y] = new_board[x+1][y], new_board[x][y]\n",
    "        new_node = Node(new_board, parent=board)\n",
    "        out_boards.append((new_node, x+1, y))\n",
    "    return out_boards\n",
    "\n",
    "def slidingPuzzle(board, x, y):\n",
    "    step = 0\n",
    "    Q = [(board, x, y, step)]\n",
    "    seen = []\n",
    "    while len(Q)>0:\n",
    "        to_explore, x, y, step = Q.pop(0)\n",
    "        if to_explore.name == [[1,2,3], [4,5,0]]:\n",
    "            return to_explore.depth\n",
    "        \n",
    "        if to_explore.name in seen:\n",
    "            continue\n",
    "        else:\n",
    "            seen.append(to_explore.name)\n",
    "        if 0 in to_explore.name[0]:\n",
    "            x = 0\n",
    "        else:\n",
    "            x = 1\n",
    "        y = to_explore.name[x].index(0)\n",
    "        \n",
    "        new_possibilities = search_board(board=to_explore, start_pos=(x,y))\n",
    "        for index, new in enumerate(new_possibilities):\n",
    "            new_board, new_x, new_y = new\n",
    "            Q.append([new_board, new_x, new_y, step+1])\n",
    "    return -1\n"
   ]
  },
  {
   "cell_type": "code",
   "execution_count": 113,
   "metadata": {},
   "outputs": [
    {
     "name": "stdout",
     "output_type": "stream",
     "text": [
      "1\n"
     ]
    }
   ],
   "source": [
    "board = Node([[1,2,3],[4,0,5]])\n",
    "print(slidingPuzzle(board, 1, 1))"
   ]
  },
  {
   "cell_type": "code",
   "execution_count": 116,
   "metadata": {},
   "outputs": [
    {
     "name": "stdout",
     "output_type": "stream",
     "text": [
      "5\n",
      "[[4, 1, 2], [5, 0, 3]]\n",
      "├── [[4, 1, 2], [0, 5, 3]]\n",
      "│   ├── [[4, 1, 2], [5, 0, 3]]\n",
      "│   └── [[0, 1, 2], [4, 5, 3]]\n",
      "│       ├── [[1, 0, 2], [4, 5, 3]]\n",
      "│       │   ├── [[0, 1, 2], [4, 5, 3]]\n",
      "│       │   ├── [[1, 2, 0], [4, 5, 3]]\n",
      "│       │   │   ├── [[1, 0, 2], [4, 5, 3]]\n",
      "│       │   │   └── [[1, 2, 3], [4, 5, 0]]\n",
      "│       │   └── [[1, 5, 2], [4, 0, 3]]\n",
      "│       │       ├── [[1, 5, 2], [0, 4, 3]]\n",
      "│       │       ├── [[1, 5, 2], [4, 3, 0]]\n",
      "│       │       └── [[1, 0, 2], [4, 5, 3]]\n",
      "│       └── [[4, 1, 2], [0, 5, 3]]\n",
      "├── [[4, 1, 2], [5, 3, 0]]\n",
      "│   ├── [[4, 1, 2], [5, 0, 3]]\n",
      "│   └── [[4, 1, 0], [5, 3, 2]]\n",
      "│       ├── [[4, 0, 1], [5, 3, 2]]\n",
      "│       │   ├── [[0, 4, 1], [5, 3, 2]]\n",
      "│       │   │   ├── [[4, 0, 1], [5, 3, 2]]\n",
      "│       │   │   └── [[5, 4, 1], [0, 3, 2]]\n",
      "│       │   ├── [[4, 1, 0], [5, 3, 2]]\n",
      "│       │   └── [[4, 3, 1], [5, 0, 2]]\n",
      "│       │       ├── [[4, 3, 1], [0, 5, 2]]\n",
      "│       │       ├── [[4, 3, 1], [5, 2, 0]]\n",
      "│       │       └── [[4, 0, 1], [5, 3, 2]]\n",
      "│       └── [[4, 1, 2], [5, 3, 0]]\n",
      "└── [[4, 0, 2], [5, 1, 3]]\n",
      "    ├── [[0, 4, 2], [5, 1, 3]]\n",
      "    │   ├── [[4, 0, 2], [5, 1, 3]]\n",
      "    │   └── [[5, 4, 2], [0, 1, 3]]\n",
      "    │       ├── [[5, 4, 2], [1, 0, 3]]\n",
      "    │       │   ├── [[5, 4, 2], [0, 1, 3]]\n",
      "    │       │   ├── [[5, 4, 2], [1, 3, 0]]\n",
      "    │       │   └── [[5, 0, 2], [1, 4, 3]]\n",
      "    │       └── [[0, 4, 2], [5, 1, 3]]\n",
      "    ├── [[4, 2, 0], [5, 1, 3]]\n",
      "    │   ├── [[4, 0, 2], [5, 1, 3]]\n",
      "    │   └── [[4, 2, 3], [5, 1, 0]]\n",
      "    │       ├── [[4, 2, 3], [5, 0, 1]]\n",
      "    │       │   ├── [[4, 2, 3], [0, 5, 1]]\n",
      "    │       │   ├── [[4, 2, 3], [5, 1, 0]]\n",
      "    │       │   └── [[4, 0, 3], [5, 2, 1]]\n",
      "    │       └── [[4, 2, 0], [5, 1, 3]]\n",
      "    └── [[4, 1, 2], [5, 0, 3]]\n"
     ]
    }
   ],
   "source": [
    "board = Node([[4,1,2],[5,0,3]])\n",
    "print(slidingPuzzle(board, 1, 1))\n",
    "for pre, fill, node in RenderTree(board):\n",
    "    print(\"%s%s\" % (pre, node.name))"
   ]
  },
  {
   "cell_type": "code",
   "execution_count": 115,
   "metadata": {},
   "outputs": [
    {
     "name": "stdout",
     "output_type": "stream",
     "text": [
      "14\n"
     ]
    }
   ],
   "source": [
    "board = Node([[3,2,4],[1,5,0]])\n",
    "print(slidingPuzzle(board, 1, 2)) # 14"
   ]
  },
  {
   "cell_type": "code",
   "execution_count": null,
   "metadata": {},
   "outputs": [],
   "source": []
  },
  {
   "cell_type": "code",
   "execution_count": 103,
   "metadata": {
    "scrolled": true
   },
   "outputs": [],
   "source": [
    "# dir(board)\n",
    "# ??Node"
   ]
  },
  {
   "cell_type": "code",
   "execution_count": 97,
   "metadata": {},
   "outputs": [],
   "source": []
  },
  {
   "cell_type": "code",
   "execution_count": null,
   "metadata": {},
   "outputs": [],
   "source": []
  },
  {
   "cell_type": "code",
   "execution_count": null,
   "metadata": {},
   "outputs": [],
   "source": []
  },
  {
   "cell_type": "markdown",
   "metadata": {},
   "source": [
    "### 2. We use BFS to solve the jigsaw problem.\n",
    "Problem: Given a 3x3 list with non repeating numbers,  \n",
    "(e.g. [[5, 0, 3], [1, 2, 6], [8, 7, 9]])  \n",
    "each time you can swap two adjacent numbers (up, down, left, right.)  \n",
    "search through the possible space to find the minimum steps required to sort it,  \n",
    "and print out the road map.\n"
   ]
  },
  {
   "cell_type": "code",
   "execution_count": 230,
   "metadata": {},
   "outputs": [],
   "source": [
    "len_x = 2\n",
    "len_y = 2\n",
    "def search_board(board, start_pos):\n",
    "    \"\"\"Given a board and starting position and moving direction,\n",
    "       make the move and return a new board.\n",
    "    e.g. [[1,2,3], [4,5,0]], start_pos=1, 2 (which is 0), dir=left,\n",
    "         return [[1,2,3], [4,0,5]]\"\"\"\n",
    "    x, y = start_pos # pack it in a tuple (x,y) fashion.\n",
    "    out_boards = []\n",
    "    if y > 0: # left\n",
    "        new_board = copy.deepcopy(board.name)\n",
    "        new_board[x][y], new_board[x][y-1] = new_board[x][y-1], new_board[x][y]\n",
    "        new_node = Node(new_board, parent=board)\n",
    "        out_boards.append((new_node, x, y-1))\n",
    "    if y <= (len_y-1): #right\n",
    "        new_board = copy.deepcopy(board.name)\n",
    "        new_board[x][y], new_board[x][y+1] = new_board[x][y+1], new_board[x][y]\n",
    "        new_node = Node(new_board, parent=board)\n",
    "        out_boards.append((new_node, x, y+1))\n",
    "    if x >0: # up\n",
    "        new_board = copy.deepcopy(board.name)\n",
    "        new_board[x][y], new_board[x-1][y] = new_board[x-1][y], new_board[x][y]\n",
    "        new_node = Node(new_board, parent=board)\n",
    "        out_boards.append((new_node, x-1, y))\n",
    "    if x <= (len_x-1): # down\n",
    "        new_board = copy.deepcopy(board.name)\n",
    "        new_board[x][y], new_board[x+1][y] = new_board[x+1][y], new_board[x][y]\n",
    "        new_node = Node(new_board, parent=board)\n",
    "        out_boards.append((new_node, x+1, y))\n",
    "    return out_boards\n",
    "\n",
    "def slidingPuzzle(board):\n",
    "    Q = []\n",
    "    for x in range(3):\n",
    "        for y in range(3):\n",
    "            Q.append(board)\n",
    "#             Q.append((board, x, y))\n",
    "    seen = []\n",
    "    while len(Q)>0:\n",
    "#         import pdb; pdb.set_trace()\n",
    "#         to_explore, x, y = Q.pop(0)\n",
    "#         print(to_explore.name, to_explore.depth)\n",
    "        to_explore = Q.pop(0)\n",
    "        if len(seen)%100 == 0:\n",
    "            print(len(seen), to_explore.depth)\n",
    "        if to_explore.name == [[1,2,3], [4,5,6], [7,8,9]]:\n",
    "            return to_explore.depth, to_explore\n",
    "        for x in range(3):\n",
    "            for y in range(3):\n",
    "                new_possibilities = search_board(board=to_explore, start_pos=(x,y))\n",
    "                for index, new in enumerate(new_possibilities):\n",
    "                    new_board, _, _ = new\n",
    "                    if new_board.name not in seen:\n",
    "                        seen.append(new_board.name)\n",
    "                        Q.append(new_board)\n",
    "    return -1, None"
   ]
  },
  {
   "cell_type": "code",
   "execution_count": 224,
   "metadata": {},
   "outputs": [
    {
     "name": "stdout",
     "output_type": "stream",
     "text": [
      "(0, Node('/[[1, 2, 3], [4, 5, 6], [7, 8, 9]]'))\n",
      "CPU times: user 108 µs, sys: 29 µs, total: 137 µs\n",
      "Wall time: 125 µs\n"
     ]
    }
   ],
   "source": [
    "# test\n",
    "board = Node([[1,2,3],[4,5,6], [7,8,9]])\n",
    "%time print(slidingPuzzle(board)) # 0"
   ]
  },
  {
   "cell_type": "code",
   "execution_count": 222,
   "metadata": {
    "scrolled": true
   },
   "outputs": [
    {
     "name": "stdout",
     "output_type": "stream",
     "text": [
      "(1, Node('/[[1, 2, 3], [4, 5, 6], [7, 9, 8]]/[[1, 2, 3], [4, 5, 6], [7, 8, 9]]'))\n",
      "CPU times: user 11 ms, sys: 935 µs, total: 11.9 ms\n",
      "Wall time: 11.1 ms\n"
     ]
    }
   ],
   "source": [
    "board = Node([[1,2,3],[4,5,6], [7,9,8]])\n",
    "%time print(slidingPuzzle(board)) # 1"
   ]
  },
  {
   "cell_type": "code",
   "execution_count": 223,
   "metadata": {
    "scrolled": true
   },
   "outputs": [
    {
     "name": "stdout",
     "output_type": "stream",
     "text": [
      "(2, Node('/[[1, 2, 3], [4, 6, 5], [7, 9, 8]]/[[1, 2, 3], [4, 5, 6], [7, 9, 8]]/[[1, 2, 3], [4, 5, 6], [7, 8, 9]]'))\n",
      "CPU times: user 405 ms, sys: 16.3 ms, total: 421 ms\n",
      "Wall time: 421 ms\n"
     ]
    }
   ],
   "source": [
    "board = Node([[1,2,3],[4,6,5], [7,9,8]])\n",
    "%time print(slidingPuzzle(board)) # 2"
   ]
  },
  {
   "cell_type": "code",
   "execution_count": 225,
   "metadata": {},
   "outputs": [
    {
     "name": "stdout",
     "output_type": "stream",
     "text": [
      "(3, Node('/[[1, 2, 3], [6, 4, 5], [7, 9, 8]]/[[1, 2, 3], [4, 6, 5], [7, 9, 8]]/[[1, 2, 3], [4, 5, 6], [7, 9, 8]]/[[1, 2, 3], [4, 5, 6], [7, 8, 9]]'))\n",
      "CPU times: user 758 ms, sys: 4.87 ms, total: 763 ms\n",
      "Wall time: 766 ms\n"
     ]
    }
   ],
   "source": [
    "board = Node([[1,2,3],[6,4,5], [7,9,8]])\n",
    "%time print(slidingPuzzle(board)) # 3"
   ]
  },
  {
   "cell_type": "code",
   "execution_count": 226,
   "metadata": {},
   "outputs": [
    {
     "name": "stdout",
     "output_type": "stream",
     "text": [
      "(3, Node('/[[1, 6, 3], [4, 2, 5], [7, 9, 8]]/[[1, 2, 3], [4, 6, 5], [7, 9, 8]]/[[1, 2, 3], [4, 5, 6], [7, 9, 8]]/[[1, 2, 3], [4, 5, 6], [7, 8, 9]]'))\n",
      "CPU times: user 586 ms, sys: 4.77 ms, total: 591 ms\n",
      "Wall time: 592 ms\n"
     ]
    }
   ],
   "source": [
    "board = Node([[1,6,3],[4,2,5], [7,9,8]])\n",
    "%time print(slidingPuzzle(board)) # 3"
   ]
  },
  {
   "cell_type": "code",
   "execution_count": 228,
   "metadata": {
    "collapsed": true
   },
   "outputs": [
    {
     "ename": "KeyboardInterrupt",
     "evalue": "",
     "output_type": "error",
     "traceback": [
      "\u001b[0;31m---------------------------------------------------------------------------\u001b[0m",
      "\u001b[0;31mKeyboardInterrupt\u001b[0m                         Traceback (most recent call last)",
      "\u001b[0;32m<timed exec>\u001b[0m in \u001b[0;36m<module>\u001b[0;34m\u001b[0m\n",
      "\u001b[0;32m<ipython-input-220-174d5c46f43d>\u001b[0m in \u001b[0;36mslidingPuzzle\u001b[0;34m(board)\u001b[0m\n\u001b[1;32m     50\u001b[0m                 \u001b[0;32mfor\u001b[0m \u001b[0mindex\u001b[0m\u001b[0;34m,\u001b[0m \u001b[0mnew\u001b[0m \u001b[0;32min\u001b[0m \u001b[0menumerate\u001b[0m\u001b[0;34m(\u001b[0m\u001b[0mnew_possibilities\u001b[0m\u001b[0;34m)\u001b[0m\u001b[0;34m:\u001b[0m\u001b[0;34m\u001b[0m\u001b[0;34m\u001b[0m\u001b[0m\n\u001b[1;32m     51\u001b[0m                     \u001b[0mnew_board\u001b[0m\u001b[0;34m,\u001b[0m \u001b[0m_\u001b[0m\u001b[0;34m,\u001b[0m \u001b[0m_\u001b[0m \u001b[0;34m=\u001b[0m \u001b[0mnew\u001b[0m\u001b[0;34m\u001b[0m\u001b[0;34m\u001b[0m\u001b[0m\n\u001b[0;32m---> 52\u001b[0;31m                     \u001b[0;32mif\u001b[0m \u001b[0mnew_board\u001b[0m\u001b[0;34m.\u001b[0m\u001b[0mname\u001b[0m \u001b[0;32mnot\u001b[0m \u001b[0;32min\u001b[0m \u001b[0mseen\u001b[0m\u001b[0;34m:\u001b[0m\u001b[0;34m\u001b[0m\u001b[0;34m\u001b[0m\u001b[0m\n\u001b[0m\u001b[1;32m     53\u001b[0m                         \u001b[0mseen\u001b[0m\u001b[0;34m.\u001b[0m\u001b[0mappend\u001b[0m\u001b[0;34m(\u001b[0m\u001b[0mnew_board\u001b[0m\u001b[0;34m.\u001b[0m\u001b[0mname\u001b[0m\u001b[0;34m)\u001b[0m\u001b[0;34m\u001b[0m\u001b[0;34m\u001b[0m\u001b[0m\n\u001b[1;32m     54\u001b[0m                         \u001b[0mQ\u001b[0m\u001b[0;34m.\u001b[0m\u001b[0mappend\u001b[0m\u001b[0;34m(\u001b[0m\u001b[0mnew_board\u001b[0m\u001b[0;34m)\u001b[0m\u001b[0;34m\u001b[0m\u001b[0;34m\u001b[0m\u001b[0m\n",
      "\u001b[0;31mKeyboardInterrupt\u001b[0m: "
     ]
    },
    {
     "name": "stdout",
     "output_type": "stream",
     "text": [
      "[[[[1, 2, 3], [4, 5, 0]], 0, 0, 1], [[[[1, 2, 6], [4, 5, 0]], 1, 0, 2]]]\n"
     ]
    }
   ],
   "source": [
    "board = Node([[4,6,3],[7,2,5], [1,9,8]])\n",
    "%time tmp = slidingPuzzle(board)\n",
    "print(tmp) # 5"
   ]
  },
  {
   "cell_type": "code",
   "execution_count": 229,
   "metadata": {},
   "outputs": [
    {
     "ename": "KeyboardInterrupt",
     "evalue": "",
     "output_type": "error",
     "traceback": [
      "\u001b[0;31m---------------------------------------------------------------------------\u001b[0m",
      "\u001b[0;31mKeyboardInterrupt\u001b[0m                         Traceback (most recent call last)",
      "\u001b[0;32m<timed exec>\u001b[0m in \u001b[0;36m<module>\u001b[0;34m\u001b[0m\n",
      "\u001b[0;32m<ipython-input-220-174d5c46f43d>\u001b[0m in \u001b[0;36mslidingPuzzle\u001b[0;34m(board)\u001b[0m\n\u001b[1;32m     50\u001b[0m                 \u001b[0;32mfor\u001b[0m \u001b[0mindex\u001b[0m\u001b[0;34m,\u001b[0m \u001b[0mnew\u001b[0m \u001b[0;32min\u001b[0m \u001b[0menumerate\u001b[0m\u001b[0;34m(\u001b[0m\u001b[0mnew_possibilities\u001b[0m\u001b[0;34m)\u001b[0m\u001b[0;34m:\u001b[0m\u001b[0;34m\u001b[0m\u001b[0;34m\u001b[0m\u001b[0m\n\u001b[1;32m     51\u001b[0m                     \u001b[0mnew_board\u001b[0m\u001b[0;34m,\u001b[0m \u001b[0m_\u001b[0m\u001b[0;34m,\u001b[0m \u001b[0m_\u001b[0m \u001b[0;34m=\u001b[0m \u001b[0mnew\u001b[0m\u001b[0;34m\u001b[0m\u001b[0;34m\u001b[0m\u001b[0m\n\u001b[0;32m---> 52\u001b[0;31m                     \u001b[0;32mif\u001b[0m \u001b[0mnew_board\u001b[0m\u001b[0;34m.\u001b[0m\u001b[0mname\u001b[0m \u001b[0;32mnot\u001b[0m \u001b[0;32min\u001b[0m \u001b[0mseen\u001b[0m\u001b[0;34m:\u001b[0m\u001b[0;34m\u001b[0m\u001b[0;34m\u001b[0m\u001b[0m\n\u001b[0m\u001b[1;32m     53\u001b[0m                         \u001b[0mseen\u001b[0m\u001b[0;34m.\u001b[0m\u001b[0mappend\u001b[0m\u001b[0;34m(\u001b[0m\u001b[0mnew_board\u001b[0m\u001b[0;34m.\u001b[0m\u001b[0mname\u001b[0m\u001b[0;34m)\u001b[0m\u001b[0;34m\u001b[0m\u001b[0;34m\u001b[0m\u001b[0m\n\u001b[1;32m     54\u001b[0m                         \u001b[0mQ\u001b[0m\u001b[0;34m.\u001b[0m\u001b[0mappend\u001b[0m\u001b[0;34m(\u001b[0m\u001b[0mnew_board\u001b[0m\u001b[0;34m)\u001b[0m\u001b[0;34m\u001b[0m\u001b[0;34m\u001b[0m\u001b[0m\n",
      "\u001b[0;31mKeyboardInterrupt\u001b[0m: "
     ]
    },
    {
     "name": "stdout",
     "output_type": "stream",
     "text": [
      "[[[[1, 2, 3], [4, 5, 0]], 0, 0, 1], [[[[1, 2, 6], [4, 5, 0]], 1, 0, 2]]]\n"
     ]
    }
   ],
   "source": [
    "board = Node([[5,4,6],[9,7,2], [8,1,3]])\n",
    "%time tmp = slidingPuzzle(board)\n",
    "print(tmp) # ghost examiner"
   ]
  },
  {
   "cell_type": "code",
   "execution_count": null,
   "metadata": {},
   "outputs": [],
   "source": []
  },
  {
   "cell_type": "code",
   "execution_count": 231,
   "metadata": {},
   "outputs": [
    {
     "name": "stdout",
     "output_type": "stream",
     "text": [
      "0 0\n",
      "500 2\n",
      "900 3\n",
      "1000 3\n",
      "1800 3\n",
      "2400 3\n",
      "2500 3\n",
      "3600 4\n"
     ]
    },
    {
     "ename": "KeyboardInterrupt",
     "evalue": "",
     "output_type": "error",
     "traceback": [
      "\u001b[0;31m---------------------------------------------------------------------------\u001b[0m",
      "\u001b[0;31mKeyboardInterrupt\u001b[0m                         Traceback (most recent call last)",
      "\u001b[0;32m<timed exec>\u001b[0m in \u001b[0;36m<module>\u001b[0;34m\u001b[0m\n",
      "\u001b[0;32m<ipython-input-230-6ca7b36e1aa1>\u001b[0m in \u001b[0;36mslidingPuzzle\u001b[0;34m(board)\u001b[0m\n\u001b[1;32m     51\u001b[0m                 \u001b[0;32mfor\u001b[0m \u001b[0mindex\u001b[0m\u001b[0;34m,\u001b[0m \u001b[0mnew\u001b[0m \u001b[0;32min\u001b[0m \u001b[0menumerate\u001b[0m\u001b[0;34m(\u001b[0m\u001b[0mnew_possibilities\u001b[0m\u001b[0;34m)\u001b[0m\u001b[0;34m:\u001b[0m\u001b[0;34m\u001b[0m\u001b[0;34m\u001b[0m\u001b[0m\n\u001b[1;32m     52\u001b[0m                     \u001b[0mnew_board\u001b[0m\u001b[0;34m,\u001b[0m \u001b[0m_\u001b[0m\u001b[0;34m,\u001b[0m \u001b[0m_\u001b[0m \u001b[0;34m=\u001b[0m \u001b[0mnew\u001b[0m\u001b[0;34m\u001b[0m\u001b[0;34m\u001b[0m\u001b[0m\n\u001b[0;32m---> 53\u001b[0;31m                     \u001b[0;32mif\u001b[0m \u001b[0mnew_board\u001b[0m\u001b[0;34m.\u001b[0m\u001b[0mname\u001b[0m \u001b[0;32mnot\u001b[0m \u001b[0;32min\u001b[0m \u001b[0mseen\u001b[0m\u001b[0;34m:\u001b[0m\u001b[0;34m\u001b[0m\u001b[0;34m\u001b[0m\u001b[0m\n\u001b[0m\u001b[1;32m     54\u001b[0m                         \u001b[0mseen\u001b[0m\u001b[0;34m.\u001b[0m\u001b[0mappend\u001b[0m\u001b[0;34m(\u001b[0m\u001b[0mnew_board\u001b[0m\u001b[0;34m.\u001b[0m\u001b[0mname\u001b[0m\u001b[0;34m)\u001b[0m\u001b[0;34m\u001b[0m\u001b[0;34m\u001b[0m\u001b[0m\n\u001b[1;32m     55\u001b[0m                         \u001b[0mQ\u001b[0m\u001b[0;34m.\u001b[0m\u001b[0mappend\u001b[0m\u001b[0;34m(\u001b[0m\u001b[0mnew_board\u001b[0m\u001b[0;34m)\u001b[0m\u001b[0;34m\u001b[0m\u001b[0;34m\u001b[0m\u001b[0m\n",
      "\u001b[0;31mKeyboardInterrupt\u001b[0m: "
     ]
    },
    {
     "name": "stdout",
     "output_type": "stream",
     "text": [
      "[[[[1, 2, 3], [4, 5, 0]], 0, 0, 1], [[[[1, 2, 6], [4, 5, 0]], 1, 0, 2]]]\n"
     ]
    }
   ],
   "source": [
    "board = Node([[9,5,8],[2,4,1], [3,6,7]])\n",
    "%time tmp = slidingPuzzle(board)\n",
    "print(tmp) # monster examiner"
   ]
  },
  {
   "cell_type": "code",
   "execution_count": null,
   "metadata": {},
   "outputs": [],
   "source": [
    "#     x, y = start_pos # pack it in a tuple (x,y) fashion.\n",
    "#     if direction=='left' and y > 0:\n",
    "#         board[x][y], board[x][y-1] = board[x][y-1], board[x][y]\n",
    "#     if direction=='right' and to_explore.name, x, yy <= (len_y-1):\n",
    "#         board[x][y], board[x][y+1] = board[x][y+1], board[x][y]\n",
    "#     if direction=='up' and x >0:\n",
    "#         board[x][y], board[x-1][y] = board[x-1][y], board[x][y]\n",
    "#     if direction=='down' and x <= (len_x-1):\n",
    "#         board[x][y], board[x+1][y] = board[x+1][y], board[x][y]\n",
    "#     return board\n"
   ]
  },
  {
   "cell_type": "code",
   "execution_count": null,
   "metadata": {},
   "outputs": [],
   "source": [
    "# from anytree import Node, RenderTree\n",
    "\n",
    "# udo = Node(\"Udo\")\n",
    "# marc = Node(\"Marc\", parent=udo)\n",
    "# lian = Node(\"Lian\", parent=marc)\n",
    "# dan = Node(\"Dan\", parent=udo)\n",
    "# jet = Node(\"Jet\", parent=dan)\n",
    "# jan = Node(\"Jan\", parent=dan)\n",
    "# joe = Node(\"Joe\", parent=dan)\n",
    "\n",
    "# print(udo)\n",
    "# Node('/Udo')\n",
    "# print(joe)\n",
    "# Node('/Udo/Dan/Joe')\n",
    "\n",
    "# for pre, fill, node in RenderTree(udo):\n",
    "#     print(\"%s%s\" % (pre, node.name))\n"
   ]
  }
 ],
 "metadata": {
  "kernelspec": {
   "display_name": "Python 3",
   "language": "python",
   "name": "python3"
  },
  "language_info": {
   "codemirror_mode": {
    "name": "ipython",
    "version": 3
   },
   "file_extension": ".py",
   "mimetype": "text/x-python",
   "name": "python",
   "nbconvert_exporter": "python",
   "pygments_lexer": "ipython3",
   "version": "3.6.8"
  }
 },
 "nbformat": 4,
 "nbformat_minor": 2
}
