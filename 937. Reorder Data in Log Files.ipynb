{
 "cells": [
  {
   "cell_type": "code",
   "execution_count": null,
   "metadata": {},
   "outputs": [],
   "source": []
  },
  {
   "cell_type": "code",
   "execution_count": 1,
   "metadata": {},
   "outputs": [],
   "source": [
    "a = \"a\""
   ]
  },
  {
   "cell_type": "code",
   "execution_count": 2,
   "metadata": {},
   "outputs": [
    {
     "data": {
      "text/plain": [
       "False"
      ]
     },
     "execution_count": 2,
     "metadata": {},
     "output_type": "execute_result"
    }
   ],
   "source": [
    "a.isdigit()"
   ]
  },
  {
   "cell_type": "code",
   "execution_count": null,
   "metadata": {},
   "outputs": [],
   "source": []
  },
  {
   "cell_type": "code",
   "execution_count": 11,
   "metadata": {},
   "outputs": [],
   "source": [
    "def is_digitlog(string):\n",
    "    strs = string.split(\" \")\n",
    "    for word in strs[1:]:\n",
    "        if not word.isdigit():\n",
    "            return False\n",
    "    return True"
   ]
  },
  {
   "cell_type": "code",
   "execution_count": 13,
   "metadata": {},
   "outputs": [
    {
     "data": {
      "text/plain": [
       "['let1 art can',\n",
       " 'let3 art zero',\n",
       " 'let2 own kit dig',\n",
       " 'dig1 8 1 5 1',\n",
       " 'dig2 3 6']"
      ]
     },
     "execution_count": 13,
     "metadata": {},
     "output_type": "execute_result"
    }
   ],
   "source": [
    "def reorderLogFiles(logs):\n",
    "    \"\"\"\n",
    "    :type logs: List[str]\n",
    "    :rtype: List[str]\n",
    "    \"\"\"\n",
    "    digit_logs = []\n",
    "    word_logs = []\n",
    "    for log in logs:\n",
    "        if is_digitlog(log):\n",
    "            digit_logs.append(log)\n",
    "        else:\n",
    "            # move identifier to the end for sorting\n",
    "            words_in_log = log.split(\" \")\n",
    "            log = \" \".join(words_in_log[1:])\n",
    "            log += \" \" + words_in_log[0]\n",
    "            word_logs.append(log)\n",
    "    word_logs = sorted(word_logs)\n",
    "    # move identifier back to the front\n",
    "    converted_back_word_logs = []\n",
    "    for word in word_logs:\n",
    "        tmp_words = word.split(\" \")\n",
    "        words = \" \".join(tmp_words[:-1])\n",
    "        words = tmp_words[-1] + \" \" + words\n",
    "        converted_back_word_logs.append(words)\n",
    "        \n",
    "    return converted_back_word_logs + digit_logs\n",
    "\n",
    "logs = [\"dig1 8 1 5 1\",\"let1 art can\",\"dig2 3 6\",\"let2 own kit dig\",\"let3 art zero\"]\n",
    "reorderLogFiles(logs)"
   ]
  },
  {
   "cell_type": "code",
   "execution_count": 23,
   "metadata": {},
   "outputs": [
    {
     "data": {
      "text/plain": [
       "['let1 art can',\n",
       " 'let3 art zero',\n",
       " 'let2 own kit dig',\n",
       " 'dig1 8 1 5 1',\n",
       " 'dig2 3 6']"
      ]
     },
     "execution_count": 23,
     "metadata": {},
     "output_type": "execute_result"
    }
   ],
   "source": [
    "# better version: use configs in .sort() function:\n",
    "def reorderLogFiles(logs):\n",
    "    \"\"\"\n",
    "    :type logs: List[str]\n",
    "    :rtype: List[str]\n",
    "    \"\"\"\n",
    "    digit_logs = []\n",
    "    word_logs = []\n",
    "    for log in logs:\n",
    "        if is_digitlog(log):\n",
    "            digit_logs.append(log)\n",
    "        else:\n",
    "            word_logs.append(log)\n",
    "    \n",
    "    # sort by identifier first\n",
    "    word_logs.sort(key=lambda x: x.split()[0])\n",
    "    word_logs.sort(key=lambda x: x.split()[1:])\n",
    "    return word_logs + digit_logs\n",
    "\n",
    "logs = [\"dig1 8 1 5 1\",\"let1 art can\",\"dig2 3 6\",\"let2 own kit dig\",\"let3 art zero\"]\n",
    "reorderLogFiles(logs)"
   ]
  },
  {
   "cell_type": "code",
   "execution_count": 21,
   "metadata": {},
   "outputs": [
    {
     "data": {
      "text/plain": [
       "['dig1 8 1 5 1',\n",
       " 'dig2 3 6',\n",
       " 'let1 art can',\n",
       " 'let2 own kit dig',\n",
       " 'let3 art zero']"
      ]
     },
     "execution_count": 21,
     "metadata": {},
     "output_type": "execute_result"
    }
   ],
   "source": [
    "logs.sort(key=lambda x: x.split(\" \")[0])\n",
    "logs"
   ]
  },
  {
   "cell_type": "code",
   "execution_count": null,
   "metadata": {},
   "outputs": [],
   "source": []
  }
 ],
 "metadata": {
  "kernelspec": {
   "display_name": "Python 3",
   "language": "python",
   "name": "python3"
  },
  "language_info": {
   "codemirror_mode": {
    "name": "ipython",
    "version": 3
   },
   "file_extension": ".py",
   "mimetype": "text/x-python",
   "name": "python",
   "nbconvert_exporter": "python",
   "pygments_lexer": "ipython3",
   "version": "3.6.7"
  }
 },
 "nbformat": 4,
 "nbformat_minor": 2
}
