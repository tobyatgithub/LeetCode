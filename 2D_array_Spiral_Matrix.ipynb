{
 "cells": [
  {
   "cell_type": "code",
   "execution_count": 1,
   "metadata": {},
   "outputs": [
    {
     "data": {
      "text/plain": [
       "'\\nlink: https://leetcode.com/explore/learn/card/array-and-string/202/introduction-to-2d-array/1168/\\n\\nGiven a matrix of m x n elements (m rows, n columns), return all elements of the matrix in spiral order.\\n\\nExample 1:\\n\\nInput:\\n[\\n [ 1, 2, 3 ],\\n [ 4, 5, 6 ],\\n [ 7, 8, 9 ]\\n]\\nOutput: [1,2,3,6,9,8,7,4,5]\\nExample 2:\\n\\nInput:\\n[\\n  [1, 2, 3, 4],\\n  [5, 6, 7, 8],\\n  [9,10,11,12]\\n]\\nOutput: [1,2,3,4,8,12,11,10,9,5,6,7]\\n'"
      ]
     },
     "execution_count": 1,
     "metadata": {},
     "output_type": "execute_result"
    }
   ],
   "source": [
    "\"\"\"\n",
    "link: https://leetcode.com/explore/learn/card/array-and-string/202/introduction-to-2d-array/1168/\n",
    "\n",
    "Given a matrix of m x n elements (m rows, n columns), return all elements of the matrix in spiral order.\n",
    "\n",
    "Example 1:\n",
    "\n",
    "Input:\n",
    "[\n",
    " [ 1, 2, 3 ],\n",
    " [ 4, 5, 6 ],\n",
    " [ 7, 8, 9 ]\n",
    "]\n",
    "Output: [1,2,3,6,9,8,7,4,5]\n",
    "Example 2:\n",
    "\n",
    "Input:\n",
    "[\n",
    "  [1, 2, 3, 4],\n",
    "  [5, 6, 7, 8],\n",
    "  [9,10,11,12]\n",
    "]\n",
    "Output: [1,2,3,4,8,12,11,10,9,5,6,7]\n",
    "\"\"\""
   ]
  },
  {
   "cell_type": "code",
   "execution_count": null,
   "metadata": {},
   "outputs": [],
   "source": []
  },
  {
   "cell_type": "code",
   "execution_count": 2,
   "metadata": {},
   "outputs": [
    {
     "data": {
      "text/plain": [
       "[1, 2, 3, 6, 9, 8, 7, 4, 5]"
      ]
     },
     "execution_count": 2,
     "metadata": {},
     "output_type": "execute_result"
    }
   ],
   "source": [
    "# solution 1\n",
    "class Solution:\n",
    "    def spiralOrder(self, matrix):\n",
    "        \"\"\"\n",
    "        :type matrix: List[List[int]]\n",
    "        :rtype: List[int]\n",
    "        \"\"\"\n",
    "        def spiral_helper(in_matrix):\n",
    "            \"\"\"\n",
    "            here we use divide and conquer. each time we \n",
    "            drop the top most, right most, bottom most, and left most\n",
    "            rows, and return the remaining matrix.\n",
    "            \"\"\"\n",
    "            height = len(in_matrix)\n",
    "            if height == 1:\n",
    "                return in_matrix[0], []\n",
    "            tmp = []\n",
    "            # drop top most\n",
    "#             print(\"hum..\", in_matrix)\n",
    "            try:\n",
    "                tmp += in_matrix.pop(0)\n",
    "    #             print(\"droping top most..\", tmp, in_matrix)\n",
    "\n",
    "                # drop right most\n",
    "                for h in range(height-1):\n",
    "                    tmp += [in_matrix[h].pop(-1)]\n",
    "    #             print(\"droping right most..\", tmp, in_matrix)\n",
    "\n",
    "                # drop bottom most\n",
    "                tmp += in_matrix.pop(-1)[::-1]\n",
    "    #             print(\"droping bottom most..\", tmp, in_matrix)\n",
    "\n",
    "                # drop left most\n",
    "                for h in range(height-3, -1, -1):\n",
    "    #                 print(\"h == {}, and matrix = {}\".format(h, in_matrix))\n",
    "                    tmp += [in_matrix[h].pop(0)]\n",
    "    #             print(\"droping left most..\", tmp, in_matrix)            \n",
    "            except:\n",
    "                pass\n",
    "            return tmp, in_matrix\n",
    "            \n",
    "        output = []\n",
    "        while len(matrix) > 0:\n",
    "#             print(\"running while loop..\")\n",
    "            tmp, matrix = spiral_helper(matrix)\n",
    "#             print(\"appending...{} into {}\".format(tmp, output))\n",
    "            output.extend(tmp)\n",
    "            \n",
    "        return output\n",
    "    \n",
    "    \n",
    "Solution.spiralOrder(Solution, [[1,2,3],[4,5,6],[7,8,9]])"
   ]
  },
  {
   "cell_type": "markdown",
   "metadata": {},
   "source": [
    "### Comment\n",
    "It worked..! \n",
    "Didn't take the try-except part into consideration before, as I was assuming square matrix input, which is not the case.  \n",
    "Be mindful about input! not only data typle but also shape."
   ]
  },
  {
   "cell_type": "code",
   "execution_count": null,
   "metadata": {},
   "outputs": [],
   "source": []
  }
 ],
 "metadata": {
  "kernelspec": {
   "display_name": "Python 3",
   "language": "python",
   "name": "python3"
  },
  "language_info": {
   "codemirror_mode": {
    "name": "ipython",
    "version": 3
   },
   "file_extension": ".py",
   "mimetype": "text/x-python",
   "name": "python",
   "nbconvert_exporter": "python",
   "pygments_lexer": "ipython3",
   "version": "3.6.7"
  }
 },
 "nbformat": 4,
 "nbformat_minor": 2
}
