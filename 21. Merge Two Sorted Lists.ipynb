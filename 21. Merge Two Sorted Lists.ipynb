{
 "cells": [
  {
   "cell_type": "code",
   "execution_count": null,
   "metadata": {},
   "outputs": [],
   "source": []
  },
  {
   "cell_type": "code",
   "execution_count": null,
   "metadata": {},
   "outputs": [],
   "source": []
  },
  {
   "cell_type": "code",
   "execution_count": 26,
   "metadata": {},
   "outputs": [],
   "source": [
    "# Definition for singly-linked list.\n",
    "class ListNode(object):\n",
    "    def __init__(self, val=0, next=None):\n",
    "        self.val = val\n",
    "        self.next = next\n",
    "    \n",
    "    def __str__(self):\n",
    "        out = \"Linked List: \"\n",
    "        cur = self\n",
    "        while cur.val:\n",
    "            out += str(cur.val) + \"-> \"\n",
    "            if cur.next:\n",
    "                cur = cur.next\n",
    "            else:\n",
    "                break\n",
    "        return out[:-3]\n",
    "            \n",
    "    def __repr__(self):\n",
    "        out = \"Linked List: \"\n",
    "        cur = self\n",
    "        while cur.val:\n",
    "            out += str(cur.val) + \"-> \"\n",
    "            if cur.next:\n",
    "                cur = cur.next\n",
    "            else:\n",
    "                break\n",
    "        return out[:-3]"
   ]
  },
  {
   "cell_type": "code",
   "execution_count": 27,
   "metadata": {},
   "outputs": [
    {
     "name": "stdout",
     "output_type": "stream",
     "text": [
      "Linked List: 1-> 2-> 4\n"
     ]
    }
   ],
   "source": [
    "l1 = ListNode(1)\n",
    "l1.next = ListNode(2, ListNode(4))\n",
    "print(l1)"
   ]
  },
  {
   "cell_type": "code",
   "execution_count": 28,
   "metadata": {},
   "outputs": [
    {
     "name": "stdout",
     "output_type": "stream",
     "text": [
      "Linked List: 1-> 3-> 4\n"
     ]
    }
   ],
   "source": [
    "l2 = ListNode(1, ListNode(3, ListNode(4)))\n",
    "print(l2)"
   ]
  },
  {
   "cell_type": "code",
   "execution_count": 37,
   "metadata": {},
   "outputs": [
    {
     "name": "stdout",
     "output_type": "stream",
     "text": [
      "1 Linked List: 1\n",
      "case2 Linked List: 1-> 1\n",
      "case1 Linked List: 1-> 1-> 2\n",
      "case2 Linked List: 1-> 1-> 2-> 3\n",
      "case1 Linked List: 1-> 1-> 2-> 3-> 4\n",
      "l2 long Linked List: 1-> 1-> 2-> 3-> 4-> 4\n"
     ]
    },
    {
     "data": {
      "text/plain": [
       "Linked List: 1-> 1-> 2-> 3-> 4-> 4"
      ]
     },
     "execution_count": 37,
     "metadata": {},
     "output_type": "execute_result"
    }
   ],
   "source": [
    "def mergeTwoLists(l1, l2):\n",
    "    \"\"\"\n",
    "    :type l1: ListNode\n",
    "    :type l2: ListNode\n",
    "    :rtype: ListNode\n",
    "    \"\"\"\n",
    "    out = ListNode()\n",
    "    if l1.val <= l2.val:\n",
    "        out.val = l1.val\n",
    "        l1 = l1.next\n",
    "    else:\n",
    "        out.val = l2.val\n",
    "        l2 = l2.next\n",
    "    print(\"1\", out)\n",
    "    cur = out\n",
    "    while l1 and l2:\n",
    "        if l1.val <= l2.val:\n",
    "            cur.next = ListNode(l1.val)\n",
    "            l1 = l1.next\n",
    "            cur = cur.next\n",
    "            print(\"case1\", out)\n",
    "        else:\n",
    "            cur.next = ListNode(l2.val)\n",
    "            l2 = l2.next\n",
    "            cur = cur.next\n",
    "            print(\"case2\", out)\n",
    "    if l1:\n",
    "        cur.next = l1\n",
    "        print(\"l1 long\", out)\n",
    "    else:\n",
    "        cur.next = l2\n",
    "        print(\"l2 long\", out)\n",
    "    return out\n",
    "mergeTwoLists(l1,l2)"
   ]
  },
  {
   "cell_type": "code",
   "execution_count": 32,
   "metadata": {},
   "outputs": [
    {
     "name": "stdout",
     "output_type": "stream",
     "text": [
      "1 Linked List: 1\n"
     ]
    },
    {
     "data": {
      "text/plain": [
       "Linked List: 2-> 4"
      ]
     },
     "execution_count": 32,
     "metadata": {},
     "output_type": "execute_result"
    }
   ],
   "source": []
  },
  {
   "cell_type": "code",
   "execution_count": null,
   "metadata": {},
   "outputs": [],
   "source": []
  }
 ],
 "metadata": {
  "kernelspec": {
   "display_name": "Python 3",
   "language": "python",
   "name": "python3"
  },
  "language_info": {
   "codemirror_mode": {
    "name": "ipython",
    "version": 3
   },
   "file_extension": ".py",
   "mimetype": "text/x-python",
   "name": "python",
   "nbconvert_exporter": "python",
   "pygments_lexer": "ipython3",
   "version": "3.6.7"
  }
 },
 "nbformat": 4,
 "nbformat_minor": 2
}
