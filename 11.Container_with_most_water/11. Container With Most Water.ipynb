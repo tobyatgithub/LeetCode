{
 "cells": [
  {
   "cell_type": "code",
   "execution_count": 1,
   "metadata": {},
   "outputs": [],
   "source": [
    "# 11. Container With Most Water\n",
    "# https://leetcode.com/problems/container-with-most-water/description/\n"
   ]
  },
  {
   "cell_type": "code",
   "execution_count": 5,
   "metadata": {},
   "outputs": [
    {
     "name": "stdout",
     "output_type": "stream",
     "text": [
      "0 8\n",
      "1 8\n",
      "1 7\n",
      "1 6\n",
      "2 6\n",
      "3 6\n",
      "4 6\n",
      "5 6\n"
     ]
    },
    {
     "data": {
      "text/plain": [
       "49"
      ]
     },
     "execution_count": 5,
     "metadata": {},
     "output_type": "execute_result"
    }
   ],
   "source": [
    "# version 3--- from discussion, good\n",
    "# O(n) since you only need to visit each point once\n",
    "\n",
    "h = [1,8,6,2,5,4,8,3,7]\n",
    "def maxArea(height):\n",
    "    l = 0\n",
    "    r = len(height) - 1\n",
    "    maxArea = 0\n",
    "    while l < r:\n",
    "        print(l, r)\n",
    "        tmp = min(height[l],height[r]) * (r - l)\n",
    "        if tmp > maxArea:\n",
    "            maxArea = tmp\n",
    "        \n",
    "        if height[l] <= height[r]:\n",
    "            l = l + 1\n",
    "        else:\n",
    "            r = r - 1\n",
    "    return maxArea\n",
    "\n",
    "\n",
    "maxArea(h)        "
   ]
  },
  {
   "cell_type": "code",
   "execution_count": null,
   "metadata": {},
   "outputs": [],
   "source": [
    "# version 1, BF,\n",
    "# version 2, start from 0 -> end, and \n",
    "# at each point, searching start with the largest value -> end\n",
    "# shall be ok but will be more close to the O(n * n) side"
   ]
  },
  {
   "cell_type": "code",
   "execution_count": null,
   "metadata": {},
   "outputs": [],
   "source": []
  },
  {
   "cell_type": "code",
   "execution_count": null,
   "metadata": {},
   "outputs": [],
   "source": []
  }
 ],
 "metadata": {
  "kernelspec": {
   "display_name": "Python 3",
   "language": "python",
   "name": "python3"
  },
  "language_info": {
   "codemirror_mode": {
    "name": "ipython",
    "version": 3
   },
   "file_extension": ".py",
   "mimetype": "text/x-python",
   "name": "python",
   "nbconvert_exporter": "python",
   "pygments_lexer": "ipython3",
   "version": "3.6.6"
  }
 },
 "nbformat": 4,
 "nbformat_minor": 2
}
