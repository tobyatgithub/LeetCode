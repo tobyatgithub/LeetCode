{
 "cells": [
  {
   "cell_type": "markdown",
   "metadata": {},
   "source": [
    "#### Problem description\n",
    "Given a non-negative integer num represented as a string, remove k digits from the number so that the new number is the smallest possible.\n",
    "\n",
    "Note:\n",
    "The length of num is less than 10002 and will be ≥ k.\n",
    "The given num does not contain any leading zero.\n",
    "\n",
    "Example 1:\n",
    "Input: num = \"1432219\", k = 3  \n",
    "Output: \"1219\"  \n",
    "Explanation: Remove the three digits 4, 3, and 2 to form the new number 1219 which is the smallest.  \n",
    "\n",
    "Example 2:  \n",
    "Input: num = \"10200\", k = 1  \n",
    "Output: \"200\"  \n",
    "Explanation: Remove the leading 1 and the number is 200. Note that the output must not contain leading zeroes.  \n",
    "\n",
    "Example 3:  \n",
    "Input: num = \"10\", k = 2  \n",
    "Output: \"0\"  \n",
    "Explanation: Remove all the digits from the number and it is left with nothing which is 0."
   ]
  },
  {
   "cell_type": "code",
   "execution_count": 29,
   "metadata": {},
   "outputs": [
    {
     "data": {
      "text/plain": [
       "'1219'"
      ]
     },
     "execution_count": 29,
     "metadata": {},
     "output_type": "execute_result"
    }
   ],
   "source": [
    "class Solution(object):\n",
    "    def removeKdigits(self, num, k):\n",
    "        \"\"\"\n",
    "        :type num: str\n",
    "        :type k: int\n",
    "        :rtype: str\n",
    "        \"\"\"\n",
    "        def remove_1_digit(num):\n",
    "            nums = list(num)\n",
    "            for current_index in range(1, len(nums)):\n",
    "                left_index = current_index - 1\n",
    "                if nums[left_index] > nums[current_index]:\n",
    "                    return num[:left_index] + num[current_index:]\n",
    "            return num[:-1]\n",
    "        for _ in range(k):\n",
    "            num = remove_1_digit(num)\n",
    "        return num\n",
    "                \n",
    "\n",
    "        \n",
    "num = \"1432219\"\n",
    "k = 3\n",
    "Solution.removeKdigits(_, num, k)"
   ]
  },
  {
   "cell_type": "code",
   "execution_count": 28,
   "metadata": {},
   "outputs": [
    {
     "data": {
      "text/plain": [
       "'143221'"
      ]
     },
     "execution_count": 28,
     "metadata": {},
     "output_type": "execute_result"
    }
   ],
   "source": [
    "num = \"1432219\"\n",
    "num[:-1]"
   ]
  },
  {
   "cell_type": "code",
   "execution_count": null,
   "metadata": {},
   "outputs": [],
   "source": []
  },
  {
   "cell_type": "code",
   "execution_count": 25,
   "metadata": {},
   "outputs": [
    {
     "name": "stdout",
     "output_type": "stream",
     "text": [
      "[432219, 132219, 142219, 143219, 143219, 143229, 143221]\n",
      "132219 2\n",
      "[32219, 12219, 13219, 13219, 13229, 13221]\n",
      "12219 1\n",
      "[2219, 1219, 1219, 1229, 1221]\n",
      "1219 0\n"
     ]
    },
    {
     "data": {
      "text/plain": [
       "'1219'"
      ]
     },
     "execution_count": 25,
     "metadata": {},
     "output_type": "execute_result"
    }
   ],
   "source": [
    "# approach 1, time out brutal.\n",
    "\n",
    "class Solution(object):\n",
    "    def removeKdigits(self, num, k):\n",
    "        \"\"\"\n",
    "        :type num: str\n",
    "        :type k: int\n",
    "        :rtype: str\n",
    "        \"\"\"\n",
    "        if k == len(num):\n",
    "            return \"0\"\n",
    "        if k == 0:\n",
    "            return num\n",
    "        candidate = [int(num[:i]+num[i+1:]) for i in range(len(num))]\n",
    "        print(candidate)\n",
    "        print(str(min(candidate)), k-1)\n",
    "        return Solution.removeKdigits(_, str(min(candidate)), k-1)\n",
    "        \n",
    "num = \"1432219\"\n",
    "k = 3\n",
    "Solution.removeKdigits(_, num, k)"
   ]
  },
  {
   "cell_type": "code",
   "execution_count": 26,
   "metadata": {},
   "outputs": [
    {
     "name": "stdout",
     "output_type": "stream",
     "text": [
      "[200, 1200, 1000, 1020, 1020]\n",
      "200 0\n"
     ]
    },
    {
     "data": {
      "text/plain": [
       "'200'"
      ]
     },
     "execution_count": 26,
     "metadata": {},
     "output_type": "execute_result"
    }
   ],
   "source": [
    "num = \"10200\"\n",
    "k = 1\n",
    "Solution.removeKdigits(_, num, k)"
   ]
  },
  {
   "cell_type": "code",
   "execution_count": 27,
   "metadata": {},
   "outputs": [
    {
     "data": {
      "text/plain": [
       "'0'"
      ]
     },
     "execution_count": 27,
     "metadata": {},
     "output_type": "execute_result"
    }
   ],
   "source": [
    "num = \"10\"\n",
    "k = 2\n",
    "Solution.removeKdigits(_, num, k)"
   ]
  },
  {
   "cell_type": "code",
   "execution_count": 15,
   "metadata": {
    "scrolled": true
   },
   "outputs": [
    {
     "name": "stdout",
     "output_type": "stream",
     "text": [
      "[432219, 132219, 142219, 143219, 143219, 143229, 143221]\n"
     ]
    },
    {
     "data": {
      "text/plain": [
       "'132219'"
      ]
     },
     "execution_count": 15,
     "metadata": {},
     "output_type": "execute_result"
    }
   ],
   "source": [
    "num = \"1432219\"\n",
    "candidate = [int(num[:i]+num[i+1:]) for i in range(len(num))]\n",
    "print(candidate)\n",
    "str(min(candidate))"
   ]
  },
  {
   "cell_type": "code",
   "execution_count": 12,
   "metadata": {},
   "outputs": [
    {
     "ename": "ValueError",
     "evalue": "could not convert string to float: ",
     "output_type": "error",
     "traceback": [
      "\u001b[0;31m---------------------------------------------------------------------------\u001b[0m",
      "\u001b[0;31mValueError\u001b[0m                                Traceback (most recent call last)",
      "\u001b[0;32m<ipython-input-12-603e80e58999>\u001b[0m in \u001b[0;36m<module>\u001b[0;34m\u001b[0m\n\u001b[0;32m----> 1\u001b[0;31m \u001b[0mfloat\u001b[0m\u001b[0;34m(\u001b[0m\u001b[0;34m\"\"\u001b[0m\u001b[0;34m)\u001b[0m\u001b[0;34m\u001b[0m\u001b[0;34m\u001b[0m\u001b[0m\n\u001b[0m",
      "\u001b[0;31mValueError\u001b[0m: could not convert string to float: "
     ]
    }
   ],
   "source": []
  },
  {
   "cell_type": "code",
   "execution_count": null,
   "metadata": {},
   "outputs": [],
   "source": []
  },
  {
   "cell_type": "code",
   "execution_count": null,
   "metadata": {},
   "outputs": [],
   "source": []
  },
  {
   "cell_type": "code",
   "execution_count": null,
   "metadata": {},
   "outputs": [],
   "source": []
  }
 ],
 "metadata": {
  "kernelspec": {
   "display_name": "Python 3",
   "language": "python",
   "name": "python3"
  },
  "language_info": {
   "codemirror_mode": {
    "name": "ipython",
    "version": 3
   },
   "file_extension": ".py",
   "mimetype": "text/x-python",
   "name": "python",
   "nbconvert_exporter": "python",
   "pygments_lexer": "ipython3",
   "version": "3.6.8"
  }
 },
 "nbformat": 4,
 "nbformat_minor": 2
}
