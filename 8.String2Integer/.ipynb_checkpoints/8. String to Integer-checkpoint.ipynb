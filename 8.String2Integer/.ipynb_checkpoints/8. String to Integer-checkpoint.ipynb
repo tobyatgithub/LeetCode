{
 "cells": [
  {
   "cell_type": "code",
   "execution_count": null,
   "metadata": {},
   "outputs": [],
   "source": [
    "\"\"\"\n",
    "8. String to Integer (atoi)\n",
    "Medium\n",
    "\n",
    "https://leetcode.com/problems/string-to-integer-atoi/\n",
    "\n",
    "\n",
    "Implement atoi which converts a string to an integer.\n",
    "\n",
    "The function first discards as many whitespace characters as necessary until the first non-whitespace \n",
    "character is found. Then, starting from this character, takes an optional initial plus or minus sign \n",
    "followed by as many numerical digits as possible, and interprets them as a numerical value.\n",
    "\n",
    "The string can contain additional characters after those that form the integral number, which are \n",
    "ignored and have no effect on the behavior of this function.\n",
    "\n",
    "If the first sequence of non-whitespace characters in str is not a valid integral number, or if no such \n",
    "sequence exists because either str is empty or it contains only whitespace characters, no conversion is \n",
    "performed.\n",
    "\n",
    "If no valid conversion could be performed, a zero value is returned.\n",
    "\"\"\"\n"
   ]
  },
  {
   "cell_type": "code",
   "execution_count": null,
   "metadata": {},
   "outputs": [],
   "source": []
  },
  {
   "cell_type": "code",
   "execution_count": null,
   "metadata": {},
   "outputs": [],
   "source": []
  },
  {
   "cell_type": "code",
   "execution_count": 76,
   "metadata": {},
   "outputs": [],
   "source": [
    "# first version...\n",
    "# failed bcz doesn't deal with the white space as the task wants\n",
    "\n",
    "class Solution(object):\n",
    "    def myAtoi(self, string):\n",
    "        \"\"\"\n",
    "        :type str: str\n",
    "        :rtype: int\n",
    "        \"\"\"\n",
    "        \n",
    "        # special case, empty input\n",
    "        if not string:\n",
    "            return 0\n",
    "        \n",
    "        # case 1, all numerical\n",
    "        try:\n",
    "            out = int(string)\n",
    "            if out < - 2**31:\n",
    "                return -2**31\n",
    "            if out > 2**31:\n",
    "                return 2**31\n",
    "            return int(string)\n",
    "        \n",
    "        # case 2, involve char\n",
    "        except ValueError:\n",
    "            string = string.replace(\" \",\"\")\n",
    "            if not string:\n",
    "                return 0\n",
    "            \n",
    "            # if input string contain non-digits, read through and decide\n",
    "            if string[0] == \"-\":\n",
    "                tmp_str = \"-\"\n",
    "                string = string[1:]\n",
    "            else:\n",
    "                tmp_str = \"\"\n",
    "                \n",
    "            \n",
    "            for i in string:\n",
    "#                 print(\"tmp_str,\",tmp_str)\n",
    "                if i.isdigit():\n",
    "                    tmp_str += i\n",
    "                else:\n",
    "                    break\n",
    "                    \n",
    "            if (not tmp_str) or (tmp_str == '-'):\n",
    "                return 0\n",
    "            else:\n",
    "                return int(tmp_str)\n",
    "            "
   ]
  },
  {
   "cell_type": "code",
   "execution_count": null,
   "metadata": {},
   "outputs": [],
   "source": []
  },
  {
   "cell_type": "code",
   "execution_count": 169,
   "metadata": {},
   "outputs": [],
   "source": [
    "# second version, fix the white space problem.\n",
    "\n",
    "class Solution(object):\n",
    "    def myAtoi(self, string):\n",
    "        \"\"\"\n",
    "        :type str: str\n",
    "        :rtype: int\n",
    "        \"\"\"\n",
    "        \n",
    "        # special case, empty input\n",
    "        if not string:\n",
    "            return 0\n",
    "        \n",
    "        # case 1, all numerical\n",
    "        try:\n",
    "            out = int(string)\n",
    "            if out < - 2**31:\n",
    "                return -2**31\n",
    "            if out > (2**31 - 1):\n",
    "                return (2**31 - 1)\n",
    "            return int(string)\n",
    "        \n",
    "        # case 2, involve char\n",
    "        except ValueError:\n",
    "            # find how many white space from start\n",
    "            for i in range(len(string)):\n",
    "                if string[i] != \" \":\n",
    "                    string = string[i:]  \n",
    "#                     print(i)\n",
    "                    break\n",
    "#             print(\"beginingwhite space removed,\", string)\n",
    "            if string[0] == \"-\":\n",
    "                tmp_str = \"-\"\n",
    "                string = string[1:]\n",
    "            elif string[0] == \"+\":\n",
    "                tmp_str = \"\"\n",
    "                string = string[1:]\n",
    "            else:\n",
    "                tmp_str = \"\" \n",
    "                \n",
    "            for j in string:\n",
    "#                 print(\"tmp_str = \", tmp_str)\n",
    "                if j.isdigit():\n",
    "                    tmp_str += j\n",
    "                else:\n",
    "                    break\n",
    "                    \n",
    "            if (not tmp_str) or (tmp_str == '-'):\n",
    "                return 0\n",
    "            else:\n",
    "                out = int(tmp_str)\n",
    "                if out < - 2**31:\n",
    "                    return -2**31\n",
    "                if out > (2**31 - 1):\n",
    "                    return (2**31 - 1)\n",
    "                return out"
   ]
  },
  {
   "cell_type": "code",
   "execution_count": 170,
   "metadata": {},
   "outputs": [
    {
     "data": {
      "text/plain": [
       "11"
      ]
     },
     "execution_count": 170,
     "metadata": {},
     "output_type": "execute_result"
    }
   ],
   "source": [
    "test = \"+11e530408314\"\n",
    "# print(type(test))\n",
    "# print(len(test))\n",
    "Solution().myAtoi(test)"
   ]
  },
  {
   "cell_type": "code",
   "execution_count": 171,
   "metadata": {},
   "outputs": [],
   "source": [
    "test = \"+11e530408314\"\n",
    "# print(type(test))\n",
    "# print(len(test))\n",
    "assert Solution().myAtoi(test) == 11"
   ]
  },
  {
   "cell_type": "code",
   "execution_count": 153,
   "metadata": {},
   "outputs": [],
   "source": [
    "test = \"      -11919730356x\"\n",
    "# print(type(test))\n",
    "# print(len(test))\n",
    "assert Solution().myAtoi(test) == -2147483648"
   ]
  },
  {
   "cell_type": "code",
   "execution_count": 154,
   "metadata": {},
   "outputs": [],
   "source": [
    "test = \"-   234\"\n",
    "# print(type(test))\n",
    "# print(len(test))\n",
    "assert Solution().myAtoi(test) == 0"
   ]
  },
  {
   "cell_type": "code",
   "execution_count": 155,
   "metadata": {},
   "outputs": [],
   "source": [
    "test = \" \"\n",
    "assert Solution().myAtoi(test) == 0"
   ]
  },
  {
   "cell_type": "code",
   "execution_count": 156,
   "metadata": {},
   "outputs": [],
   "source": [
    "test = \"   +0 123\"\n",
    "assert Solution().myAtoi(test) == 0"
   ]
  },
  {
   "cell_type": "code",
   "execution_count": 157,
   "metadata": {},
   "outputs": [],
   "source": [
    "assert Solution().myAtoi(\"0-1\") == 0"
   ]
  },
  {
   "cell_type": "code",
   "execution_count": 158,
   "metadata": {},
   "outputs": [],
   "source": [
    "# assert Solution().myAtoi(\"  -0012a42\") == -12\n",
    "test = \"  -0012a42\"\n",
    "assert Solution().myAtoi(test) == -12"
   ]
  },
  {
   "cell_type": "code",
   "execution_count": 159,
   "metadata": {},
   "outputs": [],
   "source": [
    "if not test[0]:\n",
    "    print(\"a\")"
   ]
  },
  {
   "cell_type": "code",
   "execution_count": 160,
   "metadata": {},
   "outputs": [],
   "source": [
    "assert Solution().myAtoi(\"-91283472332\") == -2147483648"
   ]
  },
  {
   "cell_type": "code",
   "execution_count": 161,
   "metadata": {},
   "outputs": [],
   "source": [
    "assert Solution().myAtoi(\"4193 with words\") == 4193"
   ]
  },
  {
   "cell_type": "code",
   "execution_count": 162,
   "metadata": {},
   "outputs": [],
   "source": [
    "assert Solution().myAtoi(\"words and 987\") == 0"
   ]
  },
  {
   "cell_type": "code",
   "execution_count": 163,
   "metadata": {},
   "outputs": [],
   "source": [
    "assert Solution().myAtoi(\"42\") == 42"
   ]
  },
  {
   "cell_type": "code",
   "execution_count": 164,
   "metadata": {},
   "outputs": [],
   "source": [
    "assert Solution().myAtoi(\"   -42\") == -42"
   ]
  },
  {
   "cell_type": "code",
   "execution_count": 165,
   "metadata": {},
   "outputs": [],
   "source": [
    "test\n",
    "if not test:\n",
    "    print(\"a\")"
   ]
  },
  {
   "cell_type": "code",
   "execution_count": null,
   "metadata": {},
   "outputs": [],
   "source": []
  }
 ],
 "metadata": {
  "kernelspec": {
   "display_name": "Python 3",
   "language": "python",
   "name": "python3"
  },
  "language_info": {
   "codemirror_mode": {
    "name": "ipython",
    "version": 3
   },
   "file_extension": ".py",
   "mimetype": "text/x-python",
   "name": "python",
   "nbconvert_exporter": "python",
   "pygments_lexer": "ipython3",
   "version": "3.6.7"
  }
 },
 "nbformat": 4,
 "nbformat_minor": 2
}
