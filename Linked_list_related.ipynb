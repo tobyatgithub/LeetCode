{
 "cells": [
  {
   "cell_type": "code",
   "execution_count": 2,
   "metadata": {},
   "outputs": [],
   "source": [
    "class ListNode(object):\n",
    "    def __init__(self, val=0, next=None):\n",
    "        self.val = val\n",
    "        self.next = next"
   ]
  },
  {
   "cell_type": "code",
   "execution_count": 15,
   "metadata": {},
   "outputs": [],
   "source": [
    "LN1 = ListNode(2, ListNode(4, ListNode(3)))\n",
    "LN2 = ListNode(5, ListNode(6, ListNode(4)))\n",
    "LN3 = ListNode(5, ListNode(6, ListNode(4, ListNode(1))))"
   ]
  },
  {
   "cell_type": "code",
   "execution_count": 58,
   "metadata": {},
   "outputs": [
    {
     "name": "stdout",
     "output_type": "stream",
     "text": [
      "num1=2, num2=5, tmp_num=7, total_num=7\n",
      "num1=4, num2=6, tmp_num=100, total_num=107\n",
      "num1=3, num2=4, tmp_num=700, total_num=807\n"
     ]
    }
   ],
   "source": [
    "def addTwoNumbers(l1, l2):\n",
    "    \"\"\"\n",
    "    :type l1: ListNode\n",
    "    :type l2: ListNode\n",
    "    :rtype: ListNode\n",
    "    \"\"\"\n",
    "    digit = 0\n",
    "    total_num = 0\n",
    "    while l1 and l2:\n",
    "        num1 = l1.val\n",
    "        num2 = l2.val\n",
    "        tmp_num = (num1+num2)*(10**digit)\n",
    "        total_num += tmp_num\n",
    "        print(f\"num1={num1}, num2={num2}, tmp_num={tmp_num}, total_num={total_num}\")\n",
    "        l1 = l1.next\n",
    "        l2 = l2.next\n",
    "        digit += 1\n",
    "\n",
    "    while l1: #l2 exhausted\n",
    "        num1 = l1.val\n",
    "        tmp_num = num1 * (10**digit)\n",
    "        total_num += tmp_num\n",
    "        print(f\"num1={num1}, num2={num2}, tmp_num={tmp_num}, total_num={total_num}\")\n",
    "        l1 = l1.next\n",
    "        digit += 1\n",
    "\n",
    "    while l2:\n",
    "        num2 = l2.val\n",
    "        tmp_num = num2 * (10**digit)\n",
    "        total_num += tmp_num\n",
    "        print(f\"num1={num1}, num2={num2}, tmp_num={tmp_num}, total_num={total_num}\")\n",
    "        l2 = l2.next\n",
    "        digit += 1\n",
    "        \n",
    "#     out = ListNode(0,ListNode())\n",
    "#     tmp = out.next\n",
    "#     for i in list(str(total_num))[::-1]:\n",
    "# #         print(i)\n",
    "#         tmp.val = int(i)\n",
    "#         tmp.next = ListNode()\n",
    "#         tmp = tmp.next\n",
    "#     return out.next\n",
    "    return total_num\n",
    "\n",
    "\n",
    "total_num = addTwoNumbers(LN1, LN2) #807"
   ]
  },
  {
   "cell_type": "code",
   "execution_count": 61,
   "metadata": {},
   "outputs": [
    {
     "name": "stdout",
     "output_type": "stream",
     "text": [
      "num1=2, num2=5, tmp_num=7, total_num=7\n",
      "num1=4, num2=6, tmp_num=100, total_num=107\n",
      "num1=3, num2=4, tmp_num=700, total_num=807\n",
      "num1=3, num2=1, tmp_num=1000, total_num=1807\n"
     ]
    },
    {
     "data": {
      "text/plain": [
       "1807"
      ]
     },
     "execution_count": 61,
     "metadata": {},
     "output_type": "execute_result"
    }
   ],
   "source": [
    "total_num = addTwoNumbers(LN1, LN3) #1807\n",
    "total_num"
   ]
  },
  {
   "cell_type": "code",
   "execution_count": 62,
   "metadata": {},
   "outputs": [
    {
     "name": "stdout",
     "output_type": "stream",
     "text": [
      "num1=0, num2=1, tmp_num=1, total_num=1\n"
     ]
    },
    {
     "data": {
      "text/plain": [
       "1"
      ]
     },
     "execution_count": 62,
     "metadata": {},
     "output_type": "execute_result"
    }
   ],
   "source": [
    "total_num = addTwoNumbers(ListNode(0), ListNode(1))\n",
    "total_num"
   ]
  },
  {
   "cell_type": "code",
   "execution_count": 63,
   "metadata": {},
   "outputs": [],
   "source": [
    "if len(str(total_num)) <= 1:\n",
    "    return ListNode(total_num)\n",
    "\n",
    "out = ListNode(0,ListNode())\n",
    "tmp = out.next\n",
    "out_nums = [int(_) for _ in list(str(total_num))][::-1]\n",
    "for i in range(len(out_nums)-1):\n",
    "    print(i, out_nums[i])\n",
    "    tmp.val = out_nums[i]\n",
    "    tmp.next = ListNode(out_nums[i+1])\n",
    "    tmp = tmp.next\n",
    "tmp=None\n",
    "    "
   ]
  },
  {
   "cell_type": "code",
   "execution_count": 53,
   "metadata": {},
   "outputs": [
    {
     "ename": "AttributeError",
     "evalue": "'NoneType' object has no attribute 'val'",
     "output_type": "error",
     "traceback": [
      "\u001b[0;31m---------------------------------------------------------------------------\u001b[0m",
      "\u001b[0;31mAttributeError\u001b[0m                            Traceback (most recent call last)",
      "\u001b[0;32m<ipython-input-53-110f0c5314fb>\u001b[0m in \u001b[0;36m<module>\u001b[0;34m\u001b[0m\n\u001b[0;32m----> 1\u001b[0;31m \u001b[0mout\u001b[0m\u001b[0;34m.\u001b[0m\u001b[0mnext\u001b[0m\u001b[0;34m.\u001b[0m\u001b[0mnext\u001b[0m\u001b[0;34m.\u001b[0m\u001b[0mnext\u001b[0m\u001b[0;34m.\u001b[0m\u001b[0mnext\u001b[0m\u001b[0;34m.\u001b[0m\u001b[0mval\u001b[0m\u001b[0;34m\u001b[0m\u001b[0;34m\u001b[0m\u001b[0m\n\u001b[0m",
      "\u001b[0;31mAttributeError\u001b[0m: 'NoneType' object has no attribute 'val'"
     ]
    }
   ],
   "source": [
    "out.next.next.next.val"
   ]
  },
  {
   "cell_type": "code",
   "execution_count": 64,
   "metadata": {},
   "outputs": [
    {
     "data": {
      "text/plain": [
       "0"
      ]
     },
     "execution_count": 64,
     "metadata": {},
     "output_type": "execute_result"
    }
   ],
   "source": [
    "out.val"
   ]
  },
  {
   "cell_type": "code",
   "execution_count": 84,
   "metadata": {},
   "outputs": [
    {
     "name": "stdout",
     "output_type": "stream",
     "text": [
      "0 1\n",
      "1 -3\n",
      "2 -3\n",
      "3 9\n",
      "4 -1\n",
      "5 -2\n",
      "6 5\n"
     ]
    }
   ],
   "source": [
    "nums = [-2,1,-3, -3, 9,-1, -2, 5]\n",
    "for i, n in enumerate(nums[1:]):\n",
    "    print(i,n)"
   ]
  },
  {
   "cell_type": "code",
   "execution_count": 85,
   "metadata": {},
   "outputs": [
    {
     "name": "stdout",
     "output_type": "stream",
     "text": [
      "i=0, num=-2, cur_sum=-2, max_sum=-2\n",
      "i=1, num=1, cur_sum=1, max_sum=1\n",
      "i=2, num=-3, cur_sum=-2, max_sum=1\n",
      "i=3, num=-3, cur_sum=-3, max_sum=1\n",
      "i=4, num=9, cur_sum=9, max_sum=9\n",
      "i=5, num=-1, cur_sum=8, max_sum=9\n",
      "i=6, num=-2, cur_sum=6, max_sum=9\n",
      "i=7, num=5, cur_sum=11, max_sum=11\n"
     ]
    },
    {
     "data": {
      "text/plain": [
       "11"
      ]
     },
     "execution_count": 85,
     "metadata": {},
     "output_type": "execute_result"
    }
   ],
   "source": [
    "def maxSubArray(nums: 'List[int]') -> 'int':\n",
    "    n = len(nums)\n",
    "    curr_sum = max_sum = nums[0]\n",
    "    print(f\"i={0}, num={nums[0]}, cur_sum={curr_sum}, max_sum={max_sum}\")\n",
    "    for i in range(1, n):\n",
    "        curr_sum = max(nums[i], curr_sum + nums[i])\n",
    "        max_sum = max(max_sum, curr_sum)\n",
    "        print(f\"i={i}, num={nums[i]}, cur_sum={curr_sum}, max_sum={max_sum}\")\n",
    "    return max_sum\n",
    "\n",
    "maxSubArray(nums)"
   ]
  },
  {
   "cell_type": "code",
   "execution_count": null,
   "metadata": {},
   "outputs": [],
   "source": [
    "from collections import defaultdict\n",
    "words = "
   ]
  },
  {
   "cell_type": "code",
   "execution_count": 89,
   "metadata": {},
   "outputs": [
    {
     "name": "stdout",
     "output_type": "stream",
     "text": [
      "0 0\n",
      "0 1\n",
      "0 3\n",
      "1 0\n",
      "1 1\n",
      "1 3\n",
      "2 0\n",
      "2 1\n",
      "2 3\n",
      "3 0\n",
      "3 1\n",
      "3 3\n",
      "4 0\n",
      "4 1\n",
      "4 3\n"
     ]
    }
   ],
   "source": [
    "for i in range(5):\n",
    "    for j in range(4):\n",
    "        if j == 2:\n",
    "            continue\n",
    "        print(i,j)\n"
   ]
  },
  {
   "cell_type": "code",
   "execution_count": 91,
   "metadata": {},
   "outputs": [
    {
     "data": {
      "text/plain": [
       "defaultdict(<function __main__.count_str_to_dict.<locals>.<lambda>()>,\n",
       "            {'l': 1, 'e': 2, 't': 1})"
      ]
     },
     "execution_count": 91,
     "metadata": {},
     "output_type": "execute_result"
    }
   ],
   "source": [
    "def count_str_to_dict(string):\n",
    "    # given a string, count number of characters into a dict\n",
    "    from collections import defaultdict\n",
    "    outD = defaultdict(lambda: 0)\n",
    "    for s in string:\n",
    "        outD[s] += 1\n",
    "    return outD\n",
    "\n",
    "count_str_to_dict(\"leet\")"
   ]
  },
  {
   "cell_type": "code",
   "execution_count": 93,
   "metadata": {},
   "outputs": [
    {
     "data": {
      "text/plain": [
       "'abc'"
      ]
     },
     "execution_count": 93,
     "metadata": {},
     "output_type": "execute_result"
    }
   ],
   "source": [
    "\"\".join(sorted(\"cba\"))"
   ]
  },
  {
   "cell_type": "code",
   "execution_count": 1,
   "metadata": {},
   "outputs": [],
   "source": [
    "from LinkedList import ListNode"
   ]
  },
  {
   "cell_type": "code",
   "execution_count": 2,
   "metadata": {},
   "outputs": [
    {
     "data": {
      "text/plain": [
       "LinkedList Node: 2->3  [end]"
      ]
     },
     "execution_count": 2,
     "metadata": {},
     "output_type": "execute_result"
    }
   ],
   "source": [
    "tmp = ListNode(2, ListNode(3))\n",
    "tmp"
   ]
  },
  {
   "cell_type": "code",
   "execution_count": 3,
   "metadata": {},
   "outputs": [],
   "source": [
    "tmp.insert(1)"
   ]
  },
  {
   "cell_type": "code",
   "execution_count": 4,
   "metadata": {},
   "outputs": [
    {
     "data": {
      "text/plain": [
       "LinkedList Node: 2->3->1  [end]"
      ]
     },
     "execution_count": 4,
     "metadata": {},
     "output_type": "execute_result"
    }
   ],
   "source": [
    "tmp"
   ]
  },
  {
   "cell_type": "code",
   "execution_count": 5,
   "metadata": {},
   "outputs": [
    {
     "data": {
      "text/plain": [
       "LinkedList Node: 0->1  [end]"
      ]
     },
     "execution_count": 5,
     "metadata": {},
     "output_type": "execute_result"
    }
   ],
   "source": [
    "tmp = ListNode()\n",
    "tmp.insert(1)\n",
    "tmp"
   ]
  },
  {
   "cell_type": "code",
   "execution_count": null,
   "metadata": {},
   "outputs": [],
   "source": []
  },
  {
   "cell_type": "code",
   "execution_count": 46,
   "metadata": {},
   "outputs": [],
   "source": [
    "S = \"ababcbacadefegdehijhklij\"\n"
   ]
  },
  {
   "cell_type": "code",
   "execution_count": 59,
   "metadata": {
    "scrolled": true
   },
   "outputs": [
    {
     "name": "stdout",
     "output_type": "stream",
     "text": [
      "0 8 ['b', 'c'] ['d', 'e', 'f', 'e', 'g', 'd', 'e', 'h', 'i', 'j', 'h', 'k', 'l', 'i', 'j']\n",
      "9 15 ['g', 'f', 'e'] ['h', 'i', 'j', 'h', 'k', 'l', 'i', 'j']\n",
      "16 23 ['i', 'j', 'l', 'k'] []\n"
     ]
    }
   ],
   "source": [
    "start_index = 0\n",
    "# search_index = 1\n",
    "out = []\n",
    "while start_index < len(S):\n",
    "    # start with first letter, find the last apperance of this letter\n",
    "    # and save all the seen letters within\n",
    "    start_word = S[start_index]\n",
    "    words_within = []\n",
    "    tmp_words = []\n",
    "    for search_index in range(start_index, len(S)):\n",
    "        if S[search_index] == start_word or S[search_index] in words_within:\n",
    "            words_within.extend(list(set(tmp_words)))\n",
    "            tmp_words = []\n",
    "            end_index = search_index\n",
    "        else:\n",
    "            tmp_words.append(S[search_index])\n",
    "    print(start_index, end_index, words_within, tmp_words)\n",
    "    out.append(end_index+1-start_index)\n",
    "    start_index = end_index+1\n",
    "    \n",
    "#     break\n",
    "    "
   ]
  },
  {
   "cell_type": "code",
   "execution_count": 60,
   "metadata": {},
   "outputs": [
    {
     "data": {
      "text/plain": [
       "[9, 7, 8]"
      ]
     },
     "execution_count": 60,
     "metadata": {},
     "output_type": "execute_result"
    }
   ],
   "source": [
    "out"
   ]
  },
  {
   "cell_type": "code",
   "execution_count": 55,
   "metadata": {},
   "outputs": [
    {
     "data": {
      "text/plain": [
       "8"
      ]
     },
     "execution_count": 55,
     "metadata": {},
     "output_type": "execute_result"
    }
   ],
   "source": [
    "end_index"
   ]
  },
  {
   "cell_type": "code",
   "execution_count": null,
   "metadata": {},
   "outputs": [],
   "source": []
  }
 ],
 "metadata": {
  "kernelspec": {
   "display_name": "Python 3",
   "language": "python",
   "name": "python3"
  },
  "language_info": {
   "codemirror_mode": {
    "name": "ipython",
    "version": 3
   },
   "file_extension": ".py",
   "mimetype": "text/x-python",
   "name": "python",
   "nbconvert_exporter": "python",
   "pygments_lexer": "ipython3",
   "version": "3.6.8"
  }
 },
 "nbformat": 4,
 "nbformat_minor": 2
}
