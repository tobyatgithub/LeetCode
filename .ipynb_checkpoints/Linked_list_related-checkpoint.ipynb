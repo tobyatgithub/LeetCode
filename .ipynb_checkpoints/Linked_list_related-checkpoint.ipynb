{
 "cells": [
  {
   "cell_type": "code",
   "execution_count": 2,
   "metadata": {},
   "outputs": [],
   "source": [
    "class ListNode(object):\n",
    "    def __init__(self, val=0, next=None):\n",
    "        self.val = val\n",
    "        self.next = next"
   ]
  },
  {
   "cell_type": "code",
   "execution_count": 15,
   "metadata": {},
   "outputs": [],
   "source": [
    "LN1 = ListNode(2, ListNode(4, ListNode(3)))\n",
    "LN2 = ListNode(5, ListNode(6, ListNode(4)))\n",
    "LN3 = ListNode(5, ListNode(6, ListNode(4, ListNode(1))))"
   ]
  },
  {
   "cell_type": "code",
   "execution_count": 16,
   "metadata": {},
   "outputs": [
    {
     "name": "stdout",
     "output_type": "stream",
     "text": [
      "num1=2, num2=5, tmp_num=7, total_num=7\n",
      "num1=4, num2=6, tmp_num=100, total_num=107\n",
      "num1=3, num2=4, tmp_num=700, total_num=807\n"
     ]
    },
    {
     "data": {
      "text/plain": [
       "807"
      ]
     },
     "execution_count": 16,
     "metadata": {},
     "output_type": "execute_result"
    }
   ],
   "source": [
    "def addTwoNumbers(l1, l2):\n",
    "    \"\"\"\n",
    "    :type l1: ListNode\n",
    "    :type l2: ListNode\n",
    "    :rtype: ListNode\n",
    "    \"\"\"\n",
    "    digit = 0\n",
    "    total_num = 0\n",
    "    while l1 and l2:\n",
    "        num1 = l1.val\n",
    "        num2 = l2.val\n",
    "        tmp_num = (num1+num2)*(10**digit)\n",
    "        total_num += tmp_num\n",
    "        print(f\"num1={num1}, num2={num2}, tmp_num={tmp_num}, total_num={total_num}\")\n",
    "        l1 = l1.next\n",
    "        l2 = l2.next\n",
    "        digit += 1\n",
    "\n",
    "    while l1: #l2 exhausted\n",
    "        num1 = l1.val\n",
    "        tmp_num = num1 * (10**digit)\n",
    "        total_num += tmp_num\n",
    "        print(f\"num1={num1}, num2={num2}, tmp_num={tmp_num}, total_num={total_num}\")\n",
    "        l1 = l1.next\n",
    "        digit += 1\n",
    "\n",
    "    while l2:\n",
    "        num2 = l2.val\n",
    "        tmp_num = num2 * (10**digit)\n",
    "        total_num += tmp_num\n",
    "        print(f\"num1={num1}, num2={num2}, tmp_num={tmp_num}, total_num={total_num}\")\n",
    "        l2 = l2.next\n",
    "        digit += 1\n",
    "        \n",
    "    out = ListNode(0,ListNode())\n",
    "    tmp = out.next\n",
    "    for i in list(str(total_num))[::-1]:\n",
    "#         print(i)\n",
    "        tmp.val = int(i)\n",
    "        tmp.next = ListNode()\n",
    "        tmp = tmp.next\n",
    "    return out.next\n",
    "\n",
    "\n",
    "addTwoNumbers(LN1, LN2) #807"
   ]
  },
  {
   "cell_type": "code",
   "execution_count": 17,
   "metadata": {},
   "outputs": [
    {
     "name": "stdout",
     "output_type": "stream",
     "text": [
      "num1=2, num2=5, tmp_num=7, total_num=7\n",
      "num1=4, num2=6, tmp_num=100, total_num=107\n",
      "num1=3, num2=4, tmp_num=700, total_num=807\n",
      "num1=3, num2=1, tmp_num=1000, total_num=1807\n"
     ]
    },
    {
     "data": {
      "text/plain": [
       "1807"
      ]
     },
     "execution_count": 17,
     "metadata": {},
     "output_type": "execute_result"
    }
   ],
   "source": [
    "addTwoNumbers(LN1, LN3) #1807"
   ]
  },
  {
   "cell_type": "code",
   "execution_count": 43,
   "metadata": {},
   "outputs": [
    {
     "name": "stdout",
     "output_type": "stream",
     "text": [
      "7\n",
      "0\n",
      "8\n"
     ]
    }
   ],
   "source": [
    "out = ListNode(0,ListNode())\n",
    "tmp = out.next\n",
    "for i in list(str(807))[::-1]:\n",
    "    print(i)\n",
    "\n",
    "    tmp.val = i\n",
    "    tmp.next = ListNode()\n",
    "    tmp = tmp.next\n",
    "    \n",
    "    "
   ]
  },
  {
   "cell_type": "code",
   "execution_count": 47,
   "metadata": {},
   "outputs": [
    {
     "data": {
      "text/plain": [
       "'8'"
      ]
     },
     "execution_count": 47,
     "metadata": {},
     "output_type": "execute_result"
    }
   ],
   "source": [
    "out.next.next.next.val"
   ]
  },
  {
   "cell_type": "code",
   "execution_count": null,
   "metadata": {},
   "outputs": [],
   "source": []
  }
 ],
 "metadata": {
  "kernelspec": {
   "display_name": "Python 3",
   "language": "python",
   "name": "python3"
  },
  "language_info": {
   "codemirror_mode": {
    "name": "ipython",
    "version": 3
   },
   "file_extension": ".py",
   "mimetype": "text/x-python",
   "name": "python",
   "nbconvert_exporter": "python",
   "pygments_lexer": "ipython3",
   "version": "3.6.8"
  }
 },
 "nbformat": 4,
 "nbformat_minor": 2
}
