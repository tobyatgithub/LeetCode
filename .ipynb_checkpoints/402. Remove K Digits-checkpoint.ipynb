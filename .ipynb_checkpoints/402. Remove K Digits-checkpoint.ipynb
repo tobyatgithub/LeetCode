{
 "cells": [
  {
   "cell_type": "markdown",
   "metadata": {},
   "source": [
    "#### Problem description\n",
    "Given a non-negative integer num represented as a string, remove k digits from the number so that the new number is the smallest possible.\n",
    "\n",
    "Note:\n",
    "The length of num is less than 10002 and will be ≥ k.\n",
    "The given num does not contain any leading zero.\n",
    "\n",
    "Example 1:\n",
    "Input: num = \"1432219\", k = 3  \n",
    "Output: \"1219\"  \n",
    "Explanation: Remove the three digits 4, 3, and 2 to form the new number 1219 which is the smallest.  \n",
    "\n",
    "Example 2:  \n",
    "Input: num = \"10200\", k = 1  \n",
    "Output: \"200\"  \n",
    "Explanation: Remove the leading 1 and the number is 200. Note that the output must not contain leading zeroes.  \n",
    "\n",
    "Example 3:  \n",
    "Input: num = \"10\", k = 2  \n",
    "Output: \"0\"  \n",
    "Explanation: Remove all the digits from the number and it is left with nothing which is 0."
   ]
  },
  {
   "cell_type": "code",
   "execution_count": null,
   "metadata": {},
   "outputs": [],
   "source": [
    "class Solution(object):\n",
    "    def removeKdigits(self, num, k):\n",
    "        \"\"\"\n",
    "        :type num: str\n",
    "        :type k: int\n",
    "        :rtype: str\n",
    "        \"\"\"\n",
    "        if k == len(num):\n",
    "            return \"0\"\n",
    "        if k == 0:\n",
    "            return min(num)\n",
    "        candidate = [int(num[:i]+num[i+1:]) for i in range(len(num))]\n",
    "        return removeKdigits(_, candidate, k-1)\n",
    "        \n",
    "        \n",
    "\n",
    "num = \"1432219\"\n",
    "k = 3\n",
    "Solution.removeKdigits(_, num, k)"
   ]
  },
  {
   "cell_type": "code",
   "execution_count": 3,
   "metadata": {},
   "outputs": [
    {
     "data": {
      "text/plain": [
       "['1', '0', '0', '0', '2', '0']"
      ]
     },
     "execution_count": 3,
     "metadata": {},
     "output_type": "execute_result"
    }
   ],
   "source": [
    "list(\"100020\")"
   ]
  },
  {
   "cell_type": "code",
   "execution_count": 8,
   "metadata": {
    "scrolled": true
   },
   "outputs": [
    {
     "data": {
      "text/plain": [
       "[432219, 132219, 142219, 143219, 143219, 143229, 143221]"
      ]
     },
     "execution_count": 8,
     "metadata": {},
     "output_type": "execute_result"
    }
   ],
   "source": [
    "num = \"1432219\"\n",
    "candidate = [int(num[:i]+num[i+1:]) for i in range(len(num))]\n",
    "candidate"
   ]
  },
  {
   "cell_type": "code",
   "execution_count": null,
   "metadata": {},
   "outputs": [],
   "source": []
  },
  {
   "cell_type": "code",
   "execution_count": null,
   "metadata": {},
   "outputs": [],
   "source": []
  },
  {
   "cell_type": "code",
   "execution_count": null,
   "metadata": {},
   "outputs": [],
   "source": []
  },
  {
   "cell_type": "code",
   "execution_count": null,
   "metadata": {},
   "outputs": [],
   "source": []
  }
 ],
 "metadata": {
  "kernelspec": {
   "display_name": "Python 3",
   "language": "python",
   "name": "python3"
  },
  "language_info": {
   "codemirror_mode": {
    "name": "ipython",
    "version": 3
   },
   "file_extension": ".py",
   "mimetype": "text/x-python",
   "name": "python",
   "nbconvert_exporter": "python",
   "pygments_lexer": "ipython3",
   "version": "3.6.8"
  }
 },
 "nbformat": 4,
 "nbformat_minor": 2
}
