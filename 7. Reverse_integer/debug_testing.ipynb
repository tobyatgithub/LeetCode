{
 "cells": [
  {
   "cell_type": "code",
   "execution_count": 1,
   "metadata": {},
   "outputs": [],
   "source": [
    "\"\"\"\n",
    "Given a 32-bit signed integer, reverse digits of an integer.\n",
    "\n",
    "E.g.1:\n",
    "Input: 123\n",
    "Output: 321\n",
    "\n",
    "E.g.2:\n",
    "Input: -123\n",
    "Output: -321\n",
    "\n",
    "E.g.3:\n",
    "Input: 120\n",
    "Output: 21\n",
    "\n",
    "\"\"\"\n",
    "\n",
    "\n",
    "class Solution(object):\n",
    "    def reverse(self, x):\n",
    "        \"\"\"\n",
    "        :type x: int\n",
    "        :rtype: int\n",
    "        \"\"\"\n",
    "        # 1. 32 bit restriction\n",
    "        if (x > 2**31-1) or (x < -2**31) or (x == 0):\n",
    "            return 0\n",
    "\n",
    "        # 2. idea of reverse:\n",
    "        # int -> str (reserve sign) -> reverse -> \n",
    "        # remove all 0 on the left\n",
    "        sign = \"\"\n",
    "        if x < 0:\n",
    "            sign = \"-\"\n",
    "\n",
    "        out = str(abs(x))[::-1]\n",
    "        \n",
    "        i = 0\n",
    "        while i < len(out) and out[i] == '0':\n",
    "            i += 1\n",
    "\n",
    "        out = sign + out[i:]\n",
    "        return int(out)"
   ]
  },
  {
   "cell_type": "code",
   "execution_count": null,
   "metadata": {},
   "outputs": [],
   "source": []
  },
  {
   "cell_type": "code",
   "execution_count": 3,
   "metadata": {},
   "outputs": [
    {
     "name": "stdout",
     "output_type": "stream",
     "text": [
      "-2147483651\n",
      "-2143847412\n"
     ]
    }
   ],
   "source": [
    "print(Solution().reverse(-1563847412))# -> expecting 0\n",
    "print(Solution().reverse(-2147483412))# -> expecting -2143847412\n",
    "\n",
    "# how..."
   ]
  },
  {
   "cell_type": "code",
   "execution_count": 4,
   "metadata": {},
   "outputs": [
    {
     "data": {
      "text/plain": [
       "'0'"
      ]
     },
     "execution_count": 4,
     "metadata": {},
     "output_type": "execute_result"
    }
   ],
   "source": [
    "str(0)"
   ]
  },
  {
   "cell_type": "code",
   "execution_count": 7,
   "metadata": {},
   "outputs": [],
   "source": [
    "int(str(0)[::-1])\n",
    "x = 0\n",
    "out = int(str(x)[::-1])"
   ]
  },
  {
   "cell_type": "code",
   "execution_count": null,
   "metadata": {},
   "outputs": [],
   "source": []
  }
 ],
 "metadata": {
  "kernelspec": {
   "display_name": "Python 3",
   "language": "python",
   "name": "python3"
  },
  "language_info": {
   "codemirror_mode": {
    "name": "ipython",
    "version": 3
   },
   "file_extension": ".py",
   "mimetype": "text/x-python",
   "name": "python",
   "nbconvert_exporter": "python",
   "pygments_lexer": "ipython3",
   "version": "3.6.7"
  }
 },
 "nbformat": 4,
 "nbformat_minor": 2
}
