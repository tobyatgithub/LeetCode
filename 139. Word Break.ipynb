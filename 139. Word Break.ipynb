{
 "cells": [
  {
   "cell_type": "code",
   "execution_count": null,
   "metadata": {},
   "outputs": [],
   "source": []
  },
  {
   "cell_type": "code",
   "execution_count": 7,
   "metadata": {},
   "outputs": [
    {
     "name": "stdout",
     "output_type": "stream",
     "text": [
      "i=1; \n",
      "dp=[True, False, False, False, False, False, False, False, False]\n",
      "w = leet\n",
      "len(w)=4, dp[i-len(w)]=False, s[i-len(w):i]=\n",
      "w = code\n",
      "len(w)=4, dp[i-len(w)]=False, s[i-len(w):i]=\n",
      "\n",
      "\n",
      "i=2; \n",
      "dp=[True, False, False, False, False, False, False, False, False]\n",
      "w = leet\n",
      "len(w)=4, dp[i-len(w)]=False, s[i-len(w):i]=\n",
      "w = code\n",
      "len(w)=4, dp[i-len(w)]=False, s[i-len(w):i]=\n",
      "\n",
      "\n",
      "i=3; \n",
      "dp=[True, False, False, False, False, False, False, False, False]\n",
      "w = leet\n",
      "len(w)=4, dp[i-len(w)]=False, s[i-len(w):i]=\n",
      "w = code\n",
      "len(w)=4, dp[i-len(w)]=False, s[i-len(w):i]=\n",
      "\n",
      "\n",
      "i=4; \n",
      "dp=[True, False, False, False, False, False, False, False, False]\n",
      "w = leet\n",
      "len(w)=4, dp[i-len(w)]=True, s[i-len(w):i]=leet\n",
      "if triggered, dp = [True, False, False, False, True, False, False, False, False]\n",
      "w = code\n",
      "len(w)=4, dp[i-len(w)]=True, s[i-len(w):i]=leet\n",
      "\n",
      "\n",
      "i=5; \n",
      "dp=[True, False, False, False, True, False, False, False, False]\n",
      "w = leet\n",
      "len(w)=4, dp[i-len(w)]=False, s[i-len(w):i]=eetc\n",
      "w = code\n",
      "len(w)=4, dp[i-len(w)]=False, s[i-len(w):i]=eetc\n",
      "\n",
      "\n",
      "i=6; \n",
      "dp=[True, False, False, False, True, False, False, False, False]\n",
      "w = leet\n",
      "len(w)=4, dp[i-len(w)]=False, s[i-len(w):i]=etco\n",
      "w = code\n",
      "len(w)=4, dp[i-len(w)]=False, s[i-len(w):i]=etco\n",
      "\n",
      "\n",
      "i=7; \n",
      "dp=[True, False, False, False, True, False, False, False, False]\n",
      "w = leet\n",
      "len(w)=4, dp[i-len(w)]=False, s[i-len(w):i]=tcod\n",
      "w = code\n",
      "len(w)=4, dp[i-len(w)]=False, s[i-len(w):i]=tcod\n",
      "\n",
      "\n",
      "i=8; \n",
      "dp=[True, False, False, False, True, False, False, False, False]\n",
      "w = leet\n",
      "len(w)=4, dp[i-len(w)]=True, s[i-len(w):i]=code\n",
      "w = code\n",
      "len(w)=4, dp[i-len(w)]=True, s[i-len(w):i]=code\n",
      "if triggered, dp = [True, False, False, False, True, False, False, False, True]\n",
      "\n",
      "\n"
     ]
    },
    {
     "data": {
      "text/plain": [
       "True"
      ]
     },
     "execution_count": 7,
     "metadata": {},
     "output_type": "execute_result"
    }
   ],
   "source": [
    "def wordBreak(s, wordDict):\n",
    "    n = len(s)\n",
    "    dp = [False for i in range(n+1)]\n",
    "    dp[0] = True\n",
    "    for i in range(1,n+1):\n",
    "        print(f\"i={i}; \\ndp={dp}\")\n",
    "        for w in wordDict:\n",
    "            print(f\"w = {w}\")\n",
    "            print(f\"len(w)={len(w)}, dp[i-len(w)]={dp[i-len(w)]}, s[i-len(w):i]={s[i-len(w):i]}\")\n",
    "            if dp[i-len(w)] and s[i-len(w):i]==w:\n",
    "                dp[i]=True\n",
    "                print(f\"if triggered, dp = {dp}\")\n",
    "        print(\"\\n\")\n",
    "    return dp[-1]\n",
    "\n",
    "s = \"leetcode\"\n",
    "wordDict = [\"leet\", \"code\"]\n",
    "wordBreak(s, wordDict)"
   ]
  },
  {
   "cell_type": "code",
   "execution_count": 11,
   "metadata": {},
   "outputs": [
    {
     "data": {
      "text/plain": [
       "'leet'"
      ]
     },
     "execution_count": 11,
     "metadata": {},
     "output_type": "execute_result"
    }
   ],
   "source": [
    "s[0:4]"
   ]
  },
  {
   "cell_type": "code",
   "execution_count": null,
   "metadata": {},
   "outputs": [],
   "source": []
  },
  {
   "cell_type": "code",
   "execution_count": null,
   "metadata": {},
   "outputs": [],
   "source": []
  }
 ],
 "metadata": {
  "kernelspec": {
   "display_name": "Python 3",
   "language": "python",
   "name": "python3"
  },
  "language_info": {
   "codemirror_mode": {
    "name": "ipython",
    "version": 3
   },
   "file_extension": ".py",
   "mimetype": "text/x-python",
   "name": "python",
   "nbconvert_exporter": "python",
   "pygments_lexer": "ipython3",
   "version": "3.6.7"
  }
 },
 "nbformat": 4,
 "nbformat_minor": 2
}
