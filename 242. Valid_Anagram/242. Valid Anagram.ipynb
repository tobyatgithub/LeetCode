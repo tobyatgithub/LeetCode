{
 "cells": [
  {
   "cell_type": "code",
   "execution_count": null,
   "metadata": {},
   "outputs": [],
   "source": [
    "# 242. Valid Anagram, easy~\n",
    "# https://leetcode.com/problems/valid-anagram/description/\n"
   ]
  },
  {
   "cell_type": "code",
   "execution_count": 1,
   "metadata": {},
   "outputs": [
    {
     "data": {
      "text/plain": [
       "True"
      ]
     },
     "execution_count": 1,
     "metadata": {},
     "output_type": "execute_result"
    }
   ],
   "source": [
    "# version 1...it is right but wasn't what the problem was looking for...\n",
    "# aka. i understood the question wrong..!\n",
    "\n",
    "def canPermutePalindrome(s):\n",
    "    \"\"\"\n",
    "    :type s: str\n",
    "    :rtype: bool\n",
    "    \"\"\"\n",
    "    if len(s) == 1:\n",
    "        return True\n",
    "\n",
    "    res = False\n",
    "    for i in range(1,len(s)):\n",
    "        # \"aba\" odd case:\n",
    "        if i <= (len(s) - 2):\n",
    "            if s[i - 1] == s[i + 1]:\n",
    "                res = True\n",
    "                break\n",
    "        # \"abba\" even case:\n",
    "        if s[i-1] == s[i]:\n",
    "            res = True\n",
    "            break\n",
    "    return res\n",
    "\n",
    "canPermutePalindrome(\"aabc\")"
   ]
  },
  {
   "cell_type": "code",
   "execution_count": 10,
   "metadata": {},
   "outputs": [],
   "source": [
    "s = 'adsafwrgaevcxdfz'\n",
    "save = dict()\n",
    "for l in s:\n",
    "    save.setdefault(l, 0)\n",
    "    save[l] += 1"
   ]
  },
  {
   "cell_type": "code",
   "execution_count": 14,
   "metadata": {},
   "outputs": [
    {
     "data": {
      "text/plain": [
       "['a',\n",
       " 'a',\n",
       " 'a',\n",
       " 'c',\n",
       " 'd',\n",
       " 'd',\n",
       " 'e',\n",
       " 'f',\n",
       " 'f',\n",
       " 'g',\n",
       " 'r',\n",
       " 's',\n",
       " 'v',\n",
       " 'w',\n",
       " 'x',\n",
       " 'z']"
      ]
     },
     "execution_count": 14,
     "metadata": {},
     "output_type": "execute_result"
    }
   ],
   "source": [
    "sorted(s)\n",
    "# for i,j in save.items():\n",
    "#     print(i,j)"
   ]
  },
  {
   "cell_type": "code",
   "execution_count": null,
   "metadata": {},
   "outputs": [],
   "source": []
  }
 ],
 "metadata": {
  "kernelspec": {
   "display_name": "Python 3",
   "language": "python",
   "name": "python3"
  },
  "language_info": {
   "codemirror_mode": {
    "name": "ipython",
    "version": 3
   },
   "file_extension": ".py",
   "mimetype": "text/x-python",
   "name": "python",
   "nbconvert_exporter": "python",
   "pygments_lexer": "ipython3",
   "version": "3.6.6"
  }
 },
 "nbformat": 4,
 "nbformat_minor": 2
}
