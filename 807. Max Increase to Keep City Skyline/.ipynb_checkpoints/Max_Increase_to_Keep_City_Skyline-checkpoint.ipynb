{
 "cells": [
  {
   "cell_type": "code",
   "execution_count": 1,
   "metadata": {},
   "outputs": [
    {
     "name": "stdout",
     "output_type": "stream",
     "text": [
      "Python 3.7.1\r\n"
     ]
    }
   ],
   "source": [
    "!python --version"
   ]
  },
  {
   "cell_type": "code",
   "execution_count": 2,
   "metadata": {},
   "outputs": [
    {
     "data": {
      "text/plain": [
       "'\\nIn a 2 dimensional array grid, each value grid[i][j] represents the \\nheight of a building located there. We are allowed to increase the \\nheight of any number of buildings, by any amount (the amounts can be \\ndifferent for different buildings). Height 0 is considered to be a \\nbuilding as well. \\n\\nAt the end, the \"skyline\" when viewed from all four directions of \\nthe grid, i.e. top, bottom, left, and right, must be the same as \\nthe skyline of the original grid. A city\\'s skyline is the outer \\ncontour of the rectangles formed by all the buildings when viewed \\nfrom a distance. See the following example.\\n\\nWhat is the maximum total sum that the height of the buildings can \\nbe increased?\\n\\n\\nExample:\\nInput: grid = [[3,0,8,4],[2,4,5,7],[9,2,6,3],[0,3,1,0]]\\nOutput: 35\\nExplanation: \\nThe grid is:\\n[ [3, 0, 8, 4], \\n  [2, 4, 5, 7],\\n  [9, 2, 6, 3],\\n  [0, 3, 1, 0] ]\\n\\nThe skyline viewed from top or bottom is: [9, 4, 8, 7]\\nThe skyline viewed from left or right is: [8, 7, 9, 3]\\n\\nThe grid after increasing the height of buildings without affecting skylines is:\\n\\ngridNew = [ [8, 4, 8, 7],\\n            [7, 4, 7, 7],\\n            [9, 4, 8, 7],\\n            [3, 3, 3, 3] ]\\n\\nlink:\\nhttps://leetcode.com/problems/max-increase-to-keep-city-skyline/\\n'"
      ]
     },
     "execution_count": 2,
     "metadata": {},
     "output_type": "execute_result"
    }
   ],
   "source": [
    "\"\"\"\n",
    "In a 2 dimensional array grid, each value grid[i][j] represents the \n",
    "height of a building located there. We are allowed to increase the \n",
    "height of any number of buildings, by any amount (the amounts can be \n",
    "different for different buildings). Height 0 is considered to be a \n",
    "building as well. \n",
    "\n",
    "At the end, the \"skyline\" when viewed from all four directions of \n",
    "the grid, i.e. top, bottom, left, and right, must be the same as \n",
    "the skyline of the original grid. A city's skyline is the outer \n",
    "contour of the rectangles formed by all the buildings when viewed \n",
    "from a distance. See the following example.\n",
    "\n",
    "What is the maximum total sum that the height of the buildings can \n",
    "be increased?\n",
    "\n",
    "\n",
    "Example:\n",
    "Input: grid = [[3,0,8,4],[2,4,5,7],[9,2,6,3],[0,3,1,0]]\n",
    "Output: 35\n",
    "Explanation: \n",
    "The grid is:\n",
    "[ [3, 0, 8, 4], \n",
    "  [2, 4, 5, 7],\n",
    "  [9, 2, 6, 3],\n",
    "  [0, 3, 1, 0] ]\n",
    "\n",
    "The skyline viewed from top or bottom is: [9, 4, 8, 7]\n",
    "The skyline viewed from left or right is: [8, 7, 9, 3]\n",
    "\n",
    "The grid after increasing the height of buildings without affecting skylines is:\n",
    "\n",
    "gridNew = [ [8, 4, 8, 7],\n",
    "            [7, 4, 7, 7],\n",
    "            [9, 4, 8, 7],\n",
    "            [3, 3, 3, 3] ]\n",
    "\n",
    "link:\n",
    "https://leetcode.com/problems/max-increase-to-keep-city-skyline/\n",
    "\"\"\""
   ]
  },
  {
   "cell_type": "markdown",
   "metadata": {},
   "source": [
    "### Solution 1\n",
    "The idea is straight forward, height of each cell is bounded by two conditions: (max in the row, max in the col).   \n",
    "The challenge will be, how to find and fill it efficiently.  \n",
    "The first solution here, we use brutal force to begin with."
   ]
  },
  {
   "cell_type": "code",
   "execution_count": 3,
   "metadata": {},
   "outputs": [
    {
     "data": {
      "text/plain": [
       "[9, 4, 8, 7]"
      ]
     },
     "execution_count": 3,
     "metadata": {},
     "output_type": "execute_result"
    }
   ],
   "source": [
    "# def maxIncreaseKeepingSkyline(grid):\n",
    "grid = [ [3, 0, 8, 4], \n",
    "        [2, 4, 5, 7],\n",
    "        [9, 2, 6, 3],\n",
    "        [0, 3, 1, 0] ]\n",
    "total_init = sum([sum(content) for content in grid])\n",
    "max_col = [0] * len(grid)\n",
    "# iterate through colum, bcz max(list) is easy to call\n",
    "for col in range(len(grid)):\n",
    "    for row in range(len(grid)):\n",
    "        if grid[row][col] > max_col[col]:\n",
    "            max_col[col] = grid[row][col]\n",
    "\n",
    "max_col"
   ]
  },
  {
   "cell_type": "code",
   "execution_count": 4,
   "metadata": {},
   "outputs": [],
   "source": [
    "gridNew = grid[:]"
   ]
  },
  {
   "cell_type": "code",
   "execution_count": 5,
   "metadata": {},
   "outputs": [
    {
     "data": {
      "text/plain": [
       "[[3, 0, 8, 4], [2, 4, 5, 7], [9, 2, 6, 3], [0, 3, 1, 0]]"
      ]
     },
     "execution_count": 5,
     "metadata": {},
     "output_type": "execute_result"
    }
   ],
   "source": [
    "gridNew2 = grid.copy() # notice that [[0]*4]*4 will give error at the end\n",
    "gridNew2"
   ]
  },
  {
   "cell_type": "code",
   "execution_count": 6,
   "metadata": {},
   "outputs": [
    {
     "name": "stdout",
     "output_type": "stream",
     "text": [
      "0 0 9 8 8\n",
      "0 1 4 8 4\n",
      "0 2 8 8 8\n",
      "0 3 7 8 7\n",
      "1 0 9 7 7\n",
      "1 1 4 7 4\n",
      "1 2 8 7 7\n",
      "1 3 7 7 7\n",
      "2 0 9 9 9\n",
      "2 1 4 9 4\n",
      "2 2 8 9 8\n",
      "2 3 7 9 7\n",
      "3 0 9 3 3\n",
      "3 1 4 3 3\n",
      "3 2 8 3 3\n",
      "3 3 7 3 3\n"
     ]
    },
    {
     "data": {
      "text/plain": [
       "[[8, 4, 8, 7], [7, 4, 7, 7], [9, 4, 8, 7], [3, 3, 3, 3]]"
      ]
     },
     "execution_count": 6,
     "metadata": {},
     "output_type": "execute_result"
    }
   ],
   "source": [
    "for row in range(len(grid)):\n",
    "    for col in range(len(grid)):\n",
    "        # new grid is bounded by max in col and max in row\n",
    "        gridNew[row][col] = min(max_col[col], max(grid[row]))\n",
    "        print(row, col, max_col[col], max(grid[row]), gridNew[row][col])        \n",
    "        \n",
    "gridNew"
   ]
  },
  {
   "cell_type": "code",
   "execution_count": 7,
   "metadata": {},
   "outputs": [
    {
     "data": {
      "text/plain": [
       "[[8, 4, 8, 7], [7, 4, 7, 7], [9, 4, 8, 7], [3, 3, 3, 3]]"
      ]
     },
     "execution_count": 7,
     "metadata": {},
     "output_type": "execute_result"
    }
   ],
   "source": [
    "grid # well.. due to the python copy problem..you will need deepcopy to \n",
    "     # generate a new copy with brand new pointer...\n",
    "     # ref: https://stackoverflow.com/questions/13783315/sum-of-list-of-lists-returns-sum-list\n",
    "     # a easier way here is to calculate total_init at the begining."
   ]
  },
  {
   "cell_type": "code",
   "execution_count": 8,
   "metadata": {},
   "outputs": [
    {
     "name": "stdout",
     "output_type": "stream",
     "text": [
      "57 92\n"
     ]
    },
    {
     "data": {
      "text/plain": [
       "35"
      ]
     },
     "execution_count": 8,
     "metadata": {},
     "output_type": "execute_result"
    }
   ],
   "source": [
    "total_new = sum([sum(content) for content in gridNew])\n",
    "print(total_init, total_new)\n",
    "total_increase = total_new - total_init\n",
    "total_increase"
   ]
  },
  {
   "cell_type": "code",
   "execution_count": 12,
   "metadata": {},
   "outputs": [],
   "source": [
    "# put into a function:\n",
    "class Solution(object):\n",
    "    def maxIncreaseKeepingSkyline(self, grid):\n",
    "        \"\"\"\n",
    "        :type grid: List[List[int]]\n",
    "        :rtype: int\n",
    "        \"\"\"\n",
    "        total_init = sum([sum(content) for content in grid])\n",
    "        max_col = [0] * len(grid)\n",
    "        # iterate through colum, bcz max(list) is easy to call\n",
    "        for col in range(len(grid)):\n",
    "            for row in range(len(grid)):\n",
    "                if grid[row][col] > max_col[col]:\n",
    "                    max_col[col] = grid[row][col]\n",
    "                    \n",
    "        gridNew = grid[:]\n",
    "        for row in range(len(grid)):\n",
    "            for col in range(len(grid)):\n",
    "                # new grid is bounded by max in col and max in row\n",
    "                gridNew[row][col] = min(max_col[col], max(grid[row]))\n",
    "                \n",
    "        total_new = sum([sum(content) for content in gridNew])\n",
    "        total_increase = total_new - total_init   \n",
    "        return total_increase\n",
    "    \n"
   ]
  },
  {
   "cell_type": "code",
   "execution_count": 13,
   "metadata": {},
   "outputs": [
    {
     "data": {
      "text/plain": [
       "35"
      ]
     },
     "execution_count": 13,
     "metadata": {},
     "output_type": "execute_result"
    }
   ],
   "source": [
    "grid = [ [3, 0, 8, 4], \n",
    "        [2, 4, 5, 7],\n",
    "        [9, 2, 6, 3],\n",
    "        [0, 3, 1, 0] ]\n",
    "\n",
    "Solution().maxIncreaseKeepingSkyline(grid)"
   ]
  },
  {
   "cell_type": "code",
   "execution_count": 14,
   "metadata": {},
   "outputs": [
    {
     "data": {
      "text/plain": [
       "35"
      ]
     },
     "execution_count": 14,
     "metadata": {},
     "output_type": "execute_result"
    }
   ],
   "source": [
    "# note:\n",
    "# there are many place we can improve from this brutal approach,\n",
    "# for example, we don't really need to create the girdNew, but \n",
    "# instead, we only need to accumulate the difference between\n",
    "# (height at current cell, possible max height). \n",
    "# e.g. we know the possible max height at cell(0,0) is \n",
    "#      min(9, 8) = 8. So the difference = 8-3 = 5\n",
    "# this will save both time and space, and it won't modify the original\n",
    "# grid input.\n",
    "\n",
    "class Solution2(object):\n",
    "    def maxIncreaseKeepingSkyline(self, grid):\n",
    "        \"\"\"\n",
    "        :type grid: List[List[int]]\n",
    "        :rtype: int\n",
    "        \"\"\"\n",
    "        total_init = sum([sum(content) for content in grid])\n",
    "        max_col = [0] * len(grid)\n",
    "        # iterate through colum, bcz max(list) is easy to call\n",
    "        for col in range(len(grid)):\n",
    "            for row in range(len(grid)):\n",
    "                if grid[row][col] > max_col[col]:\n",
    "                    max_col[col] = grid[row][col]\n",
    "                    \n",
    "        output = 0\n",
    "        for row in range(len(grid)):\n",
    "            for col in range(len(grid)):\n",
    "                possible_local_max = min(max_col[col], max(grid[row]))\n",
    "                output += possible_local_max - grid[row][col]\n",
    "                \n",
    "        return output\n",
    "    \n",
    "grid = [ [3, 0, 8, 4], \n",
    "        [2, 4, 5, 7],\n",
    "        [9, 2, 6, 3],\n",
    "        [0, 3, 1, 0] ]\n",
    "Solution2().maxIncreaseKeepingSkyline(grid)"
   ]
  },
  {
   "cell_type": "code",
   "execution_count": null,
   "metadata": {},
   "outputs": [],
   "source": []
  }
 ],
 "metadata": {
  "kernelspec": {
   "display_name": "Python 3",
   "language": "python",
   "name": "python3"
  },
  "language_info": {
   "codemirror_mode": {
    "name": "ipython",
    "version": 3
   },
   "file_extension": ".py",
   "mimetype": "text/x-python",
   "name": "python",
   "nbconvert_exporter": "python",
   "pygments_lexer": "ipython3",
   "version": "3.6.7"
  }
 },
 "nbformat": 4,
 "nbformat_minor": 2
}
